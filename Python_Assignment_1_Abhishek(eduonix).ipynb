{
  "cells": [
    {
      "cell_type": "markdown",
      "metadata": {
        "id": "jBGkwbl1aaCG"
      },
      "source": [
        "# Python Assignment - 1\n",
        "\n",
        "### Total - 30 marks"
      ]
    },
    {
      "cell_type": "markdown",
      "metadata": {
        "id": "8e948ILOaaCX"
      },
      "source": [
        "## Variables and data types"
      ]
    },
    {
      "cell_type": "markdown",
      "metadata": {
        "id": "LL2IG9fNaaCZ"
      },
      "source": [
        "__Exercise 1 a)__ Create four variables and assign values with different data types to them"
      ]
    },
    {
      "cell_type": "code",
      "execution_count": null,
      "metadata": {
        "id": "VoJVVxvaaaCb"
      },
      "outputs": [],
      "source": [
        "#int, float, String, boolean\n"
      ]
    },
    {
      "cell_type": "code",
      "execution_count": null,
      "metadata": {
        "id": "JwYvfuDWaaCh"
      },
      "outputs": [],
      "source": [
        "a=55                 # a is variable & 55 value assigned to it and Datatype is int.\n"
      ]
    },
    {
      "cell_type": "code",
      "execution_count": null,
      "metadata": {
        "id": "ctmzWKuSaaCj"
      },
      "outputs": [],
      "source": [
        "b=99.55               #b is variable & 99.55 value assigned to variable and Datatype is float.\n"
      ]
    },
    {
      "cell_type": "code",
      "execution_count": null,
      "metadata": {
        "id": "TUuuTCEKaaCl"
      },
      "outputs": [],
      "source": [
        "c=\"Python for Datascience\"     #c is variable & \"Python for Datascience\" value assigned to variable and Datatype is String.\n"
      ]
    },
    {
      "cell_type": "code",
      "source": [
        "x=True\n",
        "                                 # x and y is variable & True and False value assigned to variable Respectively and Datatype is Boolean.\n",
        "y=False\n",
        "\n"
      ],
      "metadata": {
        "id": "8rwOent1f3-9"
      },
      "execution_count": null,
      "outputs": []
    },
    {
      "cell_type": "markdown",
      "metadata": {
        "id": "VAgbXqX1aaCn"
      },
      "source": [
        "__Exercise 1 b)__ Print the variables using Python's built-in function print(_String_)"
      ]
    },
    {
      "cell_type": "code",
      "execution_count": null,
      "metadata": {
        "id": "bgx5olrqaaCp",
        "colab": {
          "base_uri": "https://localhost:8080/"
        },
        "outputId": "8a9a01bc-e98b-40e0-90fe-cb5462344736"
      },
      "outputs": [
        {
          "output_type": "stream",
          "name": "stdout",
          "text": [
            "51\n"
          ]
        }
      ],
      "source": [
        "print(a)"
      ]
    },
    {
      "cell_type": "code",
      "source": [
        "print(b)"
      ],
      "metadata": {
        "colab": {
          "base_uri": "https://localhost:8080/"
        },
        "id": "8rZ1C1mZhVLv",
        "outputId": "841e3ea4-86ac-49af-892c-b3ca5174c2fc"
      },
      "execution_count": null,
      "outputs": [
        {
          "output_type": "stream",
          "name": "stdout",
          "text": [
            "Hello\n"
          ]
        }
      ]
    },
    {
      "cell_type": "code",
      "execution_count": null,
      "metadata": {
        "id": "sS3yvR4saaCv",
        "colab": {
          "base_uri": "https://localhost:8080/"
        },
        "outputId": "106ed493-5fd0-489c-f34c-426ece0d7733"
      },
      "outputs": [
        {
          "output_type": "stream",
          "name": "stdout",
          "text": [
            "[1, 'Two', 'Three', 4]\n"
          ]
        }
      ],
      "source": [
        "print(c)"
      ]
    },
    {
      "cell_type": "code",
      "source": [
        "print(x)\n",
        "print(y)"
      ],
      "metadata": {
        "colab": {
          "base_uri": "https://localhost:8080/"
        },
        "id": "ggAIgqeKhpMF",
        "outputId": "1b2b9352-41db-4220-9c27-fc7aa2e1fa50"
      },
      "execution_count": null,
      "outputs": [
        {
          "output_type": "stream",
          "name": "stdout",
          "text": [
            "True\n",
            "False\n"
          ]
        }
      ]
    },
    {
      "cell_type": "markdown",
      "metadata": {
        "id": "KgeK9vxyaaC1"
      },
      "source": [
        "__Exercise 1 c)__ Print the data type of each variable using Python's built-in function type()"
      ]
    },
    {
      "cell_type": "code",
      "execution_count": null,
      "metadata": {
        "id": "bjGFU7P_aaC4",
        "colab": {
          "base_uri": "https://localhost:8080/"
        },
        "outputId": "b1a6a923-fee1-491a-9b7e-9c6730595eb0"
      },
      "outputs": [
        {
          "output_type": "stream",
          "name": "stdout",
          "text": [
            "<class 'int'>\n"
          ]
        }
      ],
      "source": [
        "a=51\n",
        "print(type(a))"
      ]
    },
    {
      "cell_type": "code",
      "execution_count": null,
      "metadata": {
        "id": "X2wMJJVzaaC5",
        "colab": {
          "base_uri": "https://localhost:8080/"
        },
        "outputId": "3bd05f67-b0d3-4a28-98e2-d79540b9c5ab"
      },
      "outputs": [
        {
          "output_type": "stream",
          "name": "stdout",
          "text": [
            "<class 'str'>\n"
          ]
        }
      ],
      "source": [
        "b=\"Hello\"\n",
        "print(type(b))"
      ]
    },
    {
      "cell_type": "code",
      "execution_count": null,
      "metadata": {
        "id": "NbOV4Lx_aaC6",
        "colab": {
          "base_uri": "https://localhost:8080/"
        },
        "outputId": "3b711ec3-23a9-4ef8-82ef-be0076eed45e"
      },
      "outputs": [
        {
          "output_type": "stream",
          "name": "stdout",
          "text": [
            "<class 'list'>\n"
          ]
        }
      ],
      "source": [
        "c=[1,\"Two\",\"Three\",4]\n",
        "print(type(c))"
      ]
    },
    {
      "cell_type": "code",
      "source": [
        "d=(1,\"Hello\",2,\"55k\")\n",
        "print(type(d))"
      ],
      "metadata": {
        "colab": {
          "base_uri": "https://localhost:8080/"
        },
        "id": "ulvvWYiREIh6",
        "outputId": "993c82c3-5fa5-46df-cb99-b869c6cac113"
      },
      "execution_count": null,
      "outputs": [
        {
          "output_type": "stream",
          "name": "stdout",
          "text": [
            "<class 'tuple'>\n"
          ]
        }
      ]
    },
    {
      "cell_type": "code",
      "source": [
        "x=True\n",
        "print(type(x))\n",
        "y=False\n",
        "print(type(y))"
      ],
      "metadata": {
        "colab": {
          "base_uri": "https://localhost:8080/"
        },
        "id": "ogN-ia7fEVgM",
        "outputId": "bb8c7637-8172-46d4-926e-88b3907a8755"
      },
      "execution_count": null,
      "outputs": [
        {
          "output_type": "stream",
          "name": "stdout",
          "text": [
            "<class 'bool'>\n",
            "<class 'bool'>\n"
          ]
        }
      ]
    },
    {
      "cell_type": "code",
      "source": [
        "dict={\"Fruit\":\"Apple\"}\n",
        "print(type(dict))"
      ],
      "metadata": {
        "colab": {
          "base_uri": "https://localhost:8080/"
        },
        "id": "CbrFQD2gFMpa",
        "outputId": "c7222e53-8e48-437c-e07f-ea6f0ef7da68"
      },
      "execution_count": null,
      "outputs": [
        {
          "output_type": "stream",
          "name": "stdout",
          "text": [
            "<class 'dict'>\n"
          ]
        }
      ]
    },
    {
      "cell_type": "code",
      "execution_count": null,
      "metadata": {
        "id": "vFBv-tLLaaC7"
      },
      "outputs": [],
      "source": [
        "from os import XATTR_CREATE\n",
        "d=XATTR_CREATE\n"
      ]
    },
    {
      "cell_type": "markdown",
      "metadata": {
        "id": "gt6RmZtAaaC8"
      },
      "source": [
        "__Exercise 2__ How do we use variables? Explore with arithmetic operators (+, -, *, /)!"
      ]
    },
    {
      "cell_type": "code",
      "execution_count": null,
      "metadata": {
        "id": "KJsP873LaaC_",
        "outputId": "47a21c2d-e0b0-4809-d136-c5f5b7c8a978",
        "colab": {
          "base_uri": "https://localhost:8080/"
        }
      },
      "outputs": [
        {
          "output_type": "stream",
          "name": "stdout",
          "text": [
            "8\n"
          ]
        }
      ],
      "source": [
        "# Example\n",
        "first_value = 3\n",
        "second_value = 5\n",
        "\n",
        "result = first_value + second_value\n",
        "print(result)"
      ]
    },
    {
      "cell_type": "code",
      "execution_count": null,
      "metadata": {
        "id": "Go4D6XasaaDH"
      },
      "outputs": [],
      "source": [
        "#Variables:- variables are a reserved memory location to store values.\n",
        "#We use variables with random name and value assign to it.\n",
        "#Name to variables are given by coder or developer.Name of variables can be Anything.\n",
        "#e.g a=4,Harry=\"Hi\" -- So, a and Harry is variable and 4 and Hi is Value which is assign to variables."
      ]
    },
    {
      "cell_type": "code",
      "execution_count": null,
      "metadata": {
        "colab": {
          "base_uri": "https://localhost:8080/"
        },
        "id": "FvfONLIAaaDI",
        "outputId": "6fdc761f-b8f9-4b44-95a2-8790fed07d3e"
      },
      "outputs": [
        {
          "output_type": "stream",
          "name": "stdout",
          "text": [
            "13\n"
          ]
        }
      ],
      "source": [
        "First_value=8\n",
        "Second_value=5\n",
        "result=First_value+Second_value\n",
        "print(result)"
      ]
    },
    {
      "cell_type": "code",
      "execution_count": null,
      "metadata": {
        "colab": {
          "base_uri": "https://localhost:8080/"
        },
        "id": "RE86h7NHaaDL",
        "outputId": "adfbd083-0552-4cdc-ae43-b614de9337c5"
      },
      "outputs": [
        {
          "output_type": "stream",
          "name": "stdout",
          "text": [
            "3\n"
          ]
        }
      ],
      "source": [
        "First_value=8\n",
        "Second_value=5\n",
        "result=First_value-Second_value\n",
        "print(result)"
      ]
    },
    {
      "cell_type": "code",
      "source": [
        "First_value=5\n",
        "Second_value=3\n",
        "result=First_value*Second_value\n",
        "print(result)"
      ],
      "metadata": {
        "colab": {
          "base_uri": "https://localhost:8080/"
        },
        "id": "yECQ8xtseKyL",
        "outputId": "2f2dee36-e1b0-4a8b-e9b6-20d5ee271030"
      },
      "execution_count": null,
      "outputs": [
        {
          "output_type": "stream",
          "name": "stdout",
          "text": [
            "15\n"
          ]
        }
      ]
    },
    {
      "cell_type": "code",
      "source": [
        "First_value=8\n",
        "Second_value=2\n",
        "result=First_value/Second_value\n",
        "print(result)"
      ],
      "metadata": {
        "colab": {
          "base_uri": "https://localhost:8080/"
        },
        "id": "AdA5NRYMeTiP",
        "outputId": "de0fc8d7-f13a-4672-dae3-33222678da38"
      },
      "execution_count": null,
      "outputs": [
        {
          "output_type": "stream",
          "name": "stdout",
          "text": [
            "4.0\n"
          ]
        }
      ]
    },
    {
      "cell_type": "markdown",
      "metadata": {
        "id": "bKGz0_xRaaDM"
      },
      "source": [
        "## Example: Lists"
      ]
    },
    {
      "cell_type": "code",
      "execution_count": null,
      "metadata": {
        "id": "HcxcDVCsaaDN"
      },
      "outputs": [],
      "source": [
        "fruits = ['orange', 'apple', 'pear', 'banana', 'kiwi', 'mango', 'grapes']"
      ]
    },
    {
      "cell_type": "code",
      "execution_count": null,
      "metadata": {
        "id": "7C9xpVbkaaDP",
        "outputId": "6bbfb2b2-e4f9-4350-85a0-76065a7c5991",
        "colab": {
          "base_uri": "https://localhost:8080/",
          "height": 36
        }
      },
      "outputs": [
        {
          "output_type": "execute_result",
          "data": {
            "text/plain": [
              "'orange'"
            ],
            "application/vnd.google.colaboratory.intrinsic+json": {
              "type": "string"
            }
          },
          "metadata": {},
          "execution_count": 53
        }
      ],
      "source": [
        "fruits[0]"
      ]
    },
    {
      "cell_type": "code",
      "execution_count": null,
      "metadata": {
        "id": "sBscBcucaaDS",
        "outputId": "bbd61326-0702-4348-e895-375a31d59a0a",
        "colab": {
          "base_uri": "https://localhost:8080/",
          "height": 36
        }
      },
      "outputs": [
        {
          "output_type": "execute_result",
          "data": {
            "text/plain": [
              "'apple'"
            ],
            "application/vnd.google.colaboratory.intrinsic+json": {
              "type": "string"
            }
          },
          "metadata": {},
          "execution_count": 54
        }
      ],
      "source": [
        "fruits[1]"
      ]
    },
    {
      "cell_type": "code",
      "execution_count": null,
      "metadata": {
        "id": "THTFtStmaaDU",
        "outputId": "fb1bf176-c3c5-4ca7-9fb4-f6d30786256e",
        "colab": {
          "base_uri": "https://localhost:8080/",
          "height": 36
        }
      },
      "outputs": [
        {
          "output_type": "execute_result",
          "data": {
            "text/plain": [
              "'grapes'"
            ],
            "application/vnd.google.colaboratory.intrinsic+json": {
              "type": "string"
            }
          },
          "metadata": {},
          "execution_count": 55
        }
      ],
      "source": [
        "fruits[-1]"
      ]
    },
    {
      "cell_type": "markdown",
      "metadata": {
        "id": "SN99g4hEaaDV"
      },
      "source": [
        "We can also specify a range of indexes specifying where to start and end the range"
      ]
    },
    {
      "cell_type": "code",
      "execution_count": null,
      "metadata": {
        "id": "PQ6vldzZaaDX",
        "outputId": "274136fe-a2f5-4a40-b801-1b23f74aa287",
        "colab": {
          "base_uri": "https://localhost:8080/"
        }
      },
      "outputs": [
        {
          "output_type": "execute_result",
          "data": {
            "text/plain": [
              "['pear', 'banana', 'kiwi']"
            ]
          },
          "metadata": {},
          "execution_count": 56
        }
      ],
      "source": [
        "fruits[2:5]"
      ]
    },
    {
      "cell_type": "code",
      "execution_count": null,
      "metadata": {
        "id": "w3a79p3PaaDZ",
        "outputId": "6e7f0ab8-1b45-49d2-f038-df3093e58898",
        "colab": {
          "base_uri": "https://localhost:8080/"
        }
      },
      "outputs": [
        {
          "output_type": "execute_result",
          "data": {
            "text/plain": [
              "['pear', 'banana', 'kiwi', 'mango', 'grapes']"
            ]
          },
          "metadata": {},
          "execution_count": 57
        }
      ],
      "source": [
        "fruits[2:]"
      ]
    },
    {
      "cell_type": "code",
      "execution_count": null,
      "metadata": {
        "id": "QCd7U-QDaaDa",
        "outputId": "60f6035e-7468-4571-e16b-abe5fa9ff138",
        "colab": {
          "base_uri": "https://localhost:8080/"
        }
      },
      "outputs": [
        {
          "output_type": "execute_result",
          "data": {
            "text/plain": [
              "['orange', 'apple']"
            ]
          },
          "metadata": {},
          "execution_count": 58
        }
      ],
      "source": [
        "fruits[:2]"
      ]
    },
    {
      "cell_type": "markdown",
      "metadata": {
        "id": "lIL5NUV0aaDc"
      },
      "source": [
        "__Exercise 3 a)__ Create a list with names of your friends and print the name of the first, second and last person"
      ]
    },
    {
      "cell_type": "code",
      "execution_count": null,
      "metadata": {
        "id": "hMZFzeBjaaDe"
      },
      "outputs": [],
      "source": [
        "My_friends= ['Kushal', 'Himanshu', 'Somiya', 'Preet', 'Rajat', 'Vikas']\n"
      ]
    },
    {
      "cell_type": "code",
      "source": [
        "My_friends[0]"
      ],
      "metadata": {
        "colab": {
          "base_uri": "https://localhost:8080/",
          "height": 36
        },
        "id": "SpTQBEv2KckR",
        "outputId": "6ca1ef18-2d3b-4e78-b417-d05fe70a8a8c"
      },
      "execution_count": null,
      "outputs": [
        {
          "output_type": "execute_result",
          "data": {
            "text/plain": [
              "'Kushal'"
            ],
            "application/vnd.google.colaboratory.intrinsic+json": {
              "type": "string"
            }
          },
          "metadata": {},
          "execution_count": 60
        }
      ]
    },
    {
      "cell_type": "code",
      "source": [
        "My_friends[1]"
      ],
      "metadata": {
        "colab": {
          "base_uri": "https://localhost:8080/",
          "height": 36
        },
        "id": "327y-FtALGQw",
        "outputId": "ead30667-9342-4d13-a1d4-d1135e204e18"
      },
      "execution_count": null,
      "outputs": [
        {
          "output_type": "execute_result",
          "data": {
            "text/plain": [
              "'Himanshu'"
            ],
            "application/vnd.google.colaboratory.intrinsic+json": {
              "type": "string"
            }
          },
          "metadata": {},
          "execution_count": 61
        }
      ]
    },
    {
      "cell_type": "code",
      "source": [
        "My_friends[-1]"
      ],
      "metadata": {
        "colab": {
          "base_uri": "https://localhost:8080/",
          "height": 36
        },
        "id": "5WKGMP9zLG3C",
        "outputId": "16ce491f-6334-4098-cf27-cb2ac7d509f2"
      },
      "execution_count": null,
      "outputs": [
        {
          "output_type": "execute_result",
          "data": {
            "text/plain": [
              "'Vikas'"
            ],
            "application/vnd.google.colaboratory.intrinsic+json": {
              "type": "string"
            }
          },
          "metadata": {},
          "execution_count": 62
        }
      ]
    },
    {
      "cell_type": "markdown",
      "metadata": {
        "id": "8nbvlTcZaaDf"
      },
      "source": [
        "__Exercise 3 b)__ Print your list of names using different ranges"
      ]
    },
    {
      "cell_type": "code",
      "source": [
        "My_friends[0:6]"
      ],
      "metadata": {
        "colab": {
          "base_uri": "https://localhost:8080/"
        },
        "id": "5XTKyTd6LBIm",
        "outputId": "32f9445d-ef4c-4e9f-f617-00c3cfcf6398"
      },
      "execution_count": null,
      "outputs": [
        {
          "output_type": "execute_result",
          "data": {
            "text/plain": [
              "['Kushal', 'Himanshu', 'Somiya', 'Preet', 'Rajat', 'Vikas']"
            ]
          },
          "metadata": {},
          "execution_count": 64
        }
      ]
    },
    {
      "cell_type": "code",
      "execution_count": null,
      "metadata": {
        "id": "mh-6WCcpaaDg",
        "colab": {
          "base_uri": "https://localhost:8080/"
        },
        "outputId": "584531fd-e11d-477e-ba7e-b8c5c5d886dc"
      },
      "outputs": [
        {
          "output_type": "execute_result",
          "data": {
            "text/plain": [
              "['Kushal', 'Himanshu', 'Somiya']"
            ]
          },
          "metadata": {},
          "execution_count": 65
        }
      ],
      "source": [
        "My_friends[0:3]"
      ]
    },
    {
      "cell_type": "code",
      "source": [
        "My_friends[2:5]"
      ],
      "metadata": {
        "colab": {
          "base_uri": "https://localhost:8080/"
        },
        "id": "QZG6qfw_L1eu",
        "outputId": "ce2dfdf1-757a-4ce4-9dd1-6744fcf7a45b"
      },
      "execution_count": null,
      "outputs": [
        {
          "output_type": "execute_result",
          "data": {
            "text/plain": [
              "['Somiya', 'Preet', 'Rajat']"
            ]
          },
          "metadata": {},
          "execution_count": 66
        }
      ]
    },
    {
      "cell_type": "markdown",
      "metadata": {
        "id": "eV7Gc3k0aaDi"
      },
      "source": [
        "__Exercise 4 a)__ Count how many names you have added to the list using len(_[...]_)"
      ]
    },
    {
      "cell_type": "code",
      "execution_count": null,
      "metadata": {
        "id": "VwzYqePWaaDk",
        "colab": {
          "base_uri": "https://localhost:8080/"
        },
        "outputId": "1c545fa9-607b-427c-a421-1742cd8e70d7"
      },
      "outputs": [
        {
          "output_type": "execute_result",
          "data": {
            "text/plain": [
              "6"
            ]
          },
          "metadata": {},
          "execution_count": 67
        }
      ],
      "source": [
        "len(My_friends)"
      ]
    },
    {
      "cell_type": "markdown",
      "metadata": {
        "id": "1M_gZEz6aaDm"
      },
      "source": [
        "__Exercise 4 b)__ Add a new name to your list using append(_item_)"
      ]
    },
    {
      "cell_type": "code",
      "execution_count": null,
      "metadata": {
        "id": "lOY7lAqNaaDq"
      },
      "outputs": [],
      "source": [
        "My_friends.append('Shubham')\n"
      ]
    },
    {
      "cell_type": "markdown",
      "metadata": {
        "id": "VcMZI-67aaDr"
      },
      "source": [
        "__Exercise 4 c)__ Print the list. Does it look as expected?"
      ]
    },
    {
      "cell_type": "code",
      "execution_count": null,
      "metadata": {
        "id": "vM8HtdSdaaDs",
        "colab": {
          "base_uri": "https://localhost:8080/"
        },
        "outputId": "2a770348-36ab-4c85-cd82-8a160ecfb0a7"
      },
      "outputs": [
        {
          "output_type": "stream",
          "name": "stdout",
          "text": [
            "['Kushal', 'Himanshu', 'Somiya', 'Preet', 'Rajat', 'Vikas', 'Shubham']\n"
          ]
        }
      ],
      "source": [
        "print(My_friends)"
      ]
    },
    {
      "cell_type": "code",
      "source": [
        "#yes, It look as expected."
      ],
      "metadata": {
        "id": "qW1_2wltQcxr"
      },
      "execution_count": null,
      "outputs": []
    },
    {
      "cell_type": "markdown",
      "metadata": {
        "id": "2F3EGUeraaDt"
      },
      "source": [
        "__Exercise 4 d)__ Add a new name on the _third_ position in your list using insert(_position_, _item_)"
      ]
    },
    {
      "cell_type": "code",
      "execution_count": null,
      "metadata": {
        "id": "KHlkr6ukaaDv"
      },
      "outputs": [],
      "source": [
        "My_friends.insert(2,\"Varun\") #We have to use double quote in item otherwise We will get wrong output"
      ]
    },
    {
      "cell_type": "code",
      "source": [
        "My_friends"
      ],
      "metadata": {
        "colab": {
          "base_uri": "https://localhost:8080/"
        },
        "id": "uAMQMXZoQy1T",
        "outputId": "aa93992f-378a-4de1-a343-5d8fc436a70c"
      },
      "execution_count": null,
      "outputs": [
        {
          "output_type": "execute_result",
          "data": {
            "text/plain": [
              "['Kushal',\n",
              " 'Himanshu',\n",
              " 'Varun',\n",
              " 'Somiya',\n",
              " 'Preet',\n",
              " 'Rajat',\n",
              " 'Vikas',\n",
              " 'Shubham',\n",
              " 'Shubham']"
            ]
          },
          "metadata": {},
          "execution_count": 155
        }
      ]
    },
    {
      "cell_type": "markdown",
      "metadata": {
        "id": "Qd9CBieiaaDw"
      },
      "source": [
        "__Exercise 4 e)__ Print the list. Does it look as expected?"
      ]
    },
    {
      "cell_type": "code",
      "execution_count": null,
      "metadata": {
        "id": "xuQ4vIWKaaDx",
        "colab": {
          "base_uri": "https://localhost:8080/"
        },
        "outputId": "c0a8226e-9f46-43a6-a4d2-25b020f0ea71"
      },
      "outputs": [
        {
          "output_type": "stream",
          "name": "stdout",
          "text": [
            "['Kushal', 'Himanshu', 'Varun', 'Somiya', 'Preet', 'Rajat', 'Vikas', 'Shubham', 'Shubham']\n"
          ]
        }
      ],
      "source": [
        "print(My_friends)"
      ]
    },
    {
      "cell_type": "code",
      "source": [
        "#Yes,It look as expected"
      ],
      "metadata": {
        "id": "6Fu0_EZFRmhY"
      },
      "execution_count": null,
      "outputs": []
    },
    {
      "cell_type": "markdown",
      "metadata": {
        "id": "zZuCAZvLaaDy"
      },
      "source": [
        "__Exercise 4 f)__ Remove a name from the list using remove(_item_)"
      ]
    },
    {
      "cell_type": "code",
      "execution_count": null,
      "metadata": {
        "id": "d7KMQlWPaaFz"
      },
      "outputs": [],
      "source": [
        "My_friends.remove('Varun')"
      ]
    },
    {
      "cell_type": "code",
      "source": [
        "My_friends"
      ],
      "metadata": {
        "colab": {
          "base_uri": "https://localhost:8080/"
        },
        "id": "OXfZWIEnSKQy",
        "outputId": "1b599924-7326-4729-eb22-e21cd3af5d86"
      },
      "execution_count": null,
      "outputs": [
        {
          "output_type": "execute_result",
          "data": {
            "text/plain": [
              "['Kushal', 'Himanshu', 'Somiya', 'Preet', 'Rajat', 'Vikas', 'Shubham']"
            ]
          },
          "metadata": {},
          "execution_count": 78
        }
      ]
    },
    {
      "cell_type": "markdown",
      "metadata": {
        "id": "4PxWEhdHaaF0"
      },
      "source": [
        "__Exercise 4 g)__ Print the list. Does it look as expected?"
      ]
    },
    {
      "cell_type": "code",
      "execution_count": null,
      "metadata": {
        "id": "sINS697EaaF2",
        "colab": {
          "base_uri": "https://localhost:8080/"
        },
        "outputId": "97b130ce-9349-4a6e-e989-42c3d704b580"
      },
      "outputs": [
        {
          "output_type": "stream",
          "name": "stdout",
          "text": [
            "['Kushal', 'Himanshu', 'Somiya', 'Preet', 'Rajat', 'Vikas', 'Shubham']\n"
          ]
        }
      ],
      "source": [
        "print(My_friends)"
      ]
    },
    {
      "cell_type": "code",
      "source": [
        "#Yes, It look as expected."
      ],
      "metadata": {
        "id": "fZtJCjzTSVNf"
      },
      "execution_count": null,
      "outputs": []
    },
    {
      "cell_type": "markdown",
      "metadata": {
        "id": "GZKLAqFWaaF3"
      },
      "source": [
        "# Example: For loops"
      ]
    },
    {
      "cell_type": "code",
      "execution_count": null,
      "metadata": {
        "id": "pEetwcgeaaF4",
        "outputId": "e690059a-b9d5-4983-9d2a-fe7dcf07c450",
        "colab": {
          "base_uri": "https://localhost:8080/"
        }
      },
      "outputs": [
        {
          "output_type": "stream",
          "name": "stdout",
          "text": [
            "oranges\n",
            "apples\n",
            "pears\n",
            "bananas\n",
            "kiwi\n",
            "mangos\n",
            "grapess\n"
          ]
        }
      ],
      "source": [
        "fruits= [\"oranges\",\"apples\"\n",
        ",\"pears\"\n",
        ",\"bananas\"\n",
        ",\"kiwi\"\n",
        ",\"mangos\"\n",
        ",\"grapess\"]\n",
        "for fruit in fruits:\n",
        "    print(fruit)"
      ]
    },
    {
      "cell_type": "code",
      "execution_count": null,
      "metadata": {
        "id": "olUGn8R6aaF6",
        "outputId": "226d1e03-6f9d-4163-b622-5e6b089183a3",
        "colab": {
          "base_uri": "https://localhost:8080/"
        }
      },
      "outputs": [
        {
          "output_type": "stream",
          "name": "stdout",
          "text": [
            "orangess\n",
            "appless\n",
            "pearss\n",
            "bananass\n",
            "kiwis\n",
            "mangoss\n",
            "grapesss\n"
          ]
        }
      ],
      "source": [
        "for fruit in fruits:\n",
        "    fruit = fruit + 's'\n",
        "    print(fruit)"
      ]
    },
    {
      "cell_type": "markdown",
      "metadata": {
        "id": "2WOZ5MdgaaF8"
      },
      "source": [
        "__Exercise 5 a)__ Print each name in your list of names"
      ]
    },
    {
      "cell_type": "code",
      "execution_count": 1,
      "metadata": {
        "id": "2sp89Tf9aaF-",
        "colab": {
          "base_uri": "https://localhost:8080/"
        },
        "outputId": "3b2c4dde-8462-4177-d187-98f1cf8622e5"
      },
      "outputs": [
        {
          "output_type": "stream",
          "name": "stdout",
          "text": [
            "['Abhishek', 'Bala', 'Dhananjay', 'Varun', 'Kushal', 'Himanshu', 'Somiya', 'Vikas']\n"
          ]
        }
      ],
      "source": [
        "names=[\"Abhishek\",\"Bala\",\"Dhananjay\",\"Varun\",\"Kushal\",\"Himanshu\",\"Somiya\",\"Vikas\"]\n",
        "print(names)\n"
      ]
    },
    {
      "cell_type": "markdown",
      "metadata": {
        "id": "gvvClDb_aaF_"
      },
      "source": [
        "__Exercise 5 b)__ Add a small change to each name in your list"
      ]
    },
    {
      "cell_type": "code",
      "execution_count": null,
      "metadata": {
        "id": "mFZllIp5aaGA",
        "colab": {
          "base_uri": "https://localhost:8080/"
        },
        "outputId": "e95350c1-f04f-484a-8a9c-17fb42a6257a"
      },
      "outputs": [
        {
          "output_type": "stream",
          "name": "stdout",
          "text": [
            "Abhishek_Indian\n",
            "Bala_Indian\n",
            "Dhananjay_Indian\n",
            "Varun_Indian\n",
            "Kushal_Indian\n",
            "Himanshu_Indian\n",
            "Somiya_Indian\n",
            "Vikas_Indian\n"
          ]
        }
      ],
      "source": [
        "# Adding a suffix to each name\n",
        "modified_names = [name + \"_Indian\" for name in names]\n",
        "\n",
        "for modified_name in modified_names:\n",
        "    print(modified_name)\n"
      ]
    },
    {
      "cell_type": "markdown",
      "metadata": {
        "id": "0SphuVPwaaGC"
      },
      "source": [
        "# Example: Dictionaries"
      ]
    },
    {
      "cell_type": "code",
      "execution_count": null,
      "metadata": {
        "id": "rws_2rywaaGD"
      },
      "outputs": [],
      "source": [
        "countries = {\"sweden\" : \"stockholm\", \"denmark\" : \"copenhagen\", \"norway\" : \"oslo\"}"
      ]
    },
    {
      "cell_type": "code",
      "execution_count": null,
      "metadata": {
        "id": "zYnNBp8laaGE",
        "outputId": "5b76f173-e5b4-47fa-b2c4-df1b231e3173",
        "colab": {
          "base_uri": "https://localhost:8080/"
        }
      },
      "outputs": [
        {
          "output_type": "stream",
          "name": "stdout",
          "text": [
            "stockholm\n"
          ]
        }
      ],
      "source": [
        "capital = countries[\"sweden\"]\n",
        "print(capital)"
      ]
    },
    {
      "cell_type": "markdown",
      "metadata": {
        "id": "1sTCwIWdaaGG"
      },
      "source": [
        "__Exercise 6 a)__ Get the capital of Denmark and Norway using the dictionary _countries_"
      ]
    },
    {
      "cell_type": "code",
      "execution_count": null,
      "metadata": {
        "id": "EpqySc-1aaGH",
        "colab": {
          "base_uri": "https://localhost:8080/"
        },
        "outputId": "01027305-5677-48f3-8ba0-68d0a83e46a9"
      },
      "outputs": [
        {
          "output_type": "stream",
          "name": "stdout",
          "text": [
            "copenhagen\n",
            "oslo\n"
          ]
        }
      ],
      "source": [
        "capital = countries[\"denmark\"]\n",
        "print(capital)\n",
        "capital = countries[\"norway\"]\n",
        "print(capital)"
      ]
    },
    {
      "cell_type": "markdown",
      "metadata": {
        "id": "UY7_z2hsaaGI"
      },
      "source": [
        "__Exercise 6 b)__ Add a new key-value pair to the dictionary _countries_"
      ]
    },
    {
      "cell_type": "code",
      "execution_count": null,
      "metadata": {
        "id": "kam5wpo4aaGJ"
      },
      "outputs": [],
      "source": [
        "countries[\"India\"] = \"New delhi\"\n",
        "countries[\"Japan\"] = \"Tokyo\"\n",
        "countries[\"New Zeland\"] = \"Wellington\"\n",
        "\n"
      ]
    },
    {
      "cell_type": "markdown",
      "metadata": {
        "id": "Sh0dfxlhaaGK"
      },
      "source": [
        "__Exercise 6 c)__ Print the dictionary. Does it look as expected?"
      ]
    },
    {
      "cell_type": "code",
      "execution_count": null,
      "metadata": {
        "id": "fz2sQ5PJaaGL",
        "colab": {
          "base_uri": "https://localhost:8080/"
        },
        "outputId": "69916304-cfe5-473c-d728-78bb806a67c4"
      },
      "outputs": [
        {
          "output_type": "stream",
          "name": "stdout",
          "text": [
            "{'sweden': 'stockholm', 'denmark': 'copenhagen', 'norway': 'oslo', 'India': 'New delhi', 'Japan': 'Tokyo', 'New Zeland': 'Wellington'}\n"
          ]
        }
      ],
      "source": [
        "print(countries)"
      ]
    },
    {
      "cell_type": "code",
      "source": [
        "#Yes,It look as expected"
      ],
      "metadata": {
        "id": "nYlUUe1pZ2Xy"
      },
      "execution_count": null,
      "outputs": []
    },
    {
      "cell_type": "markdown",
      "metadata": {
        "id": "dfwFiFsRaaGO"
      },
      "source": [
        "__Exercise 6 d)__ Update Sweden's capital to Malmo"
      ]
    },
    {
      "cell_type": "code",
      "execution_count": null,
      "metadata": {
        "id": "2U2lwV9saaGP"
      },
      "outputs": [],
      "source": [
        "countries[\"sweden\"]=\"Malmo\""
      ]
    },
    {
      "cell_type": "markdown",
      "metadata": {
        "id": "hWY6ovg8aaGR"
      },
      "source": [
        "__Exercise 6 e)__ Print the dictionary. Does it look as expected?"
      ]
    },
    {
      "cell_type": "code",
      "source": [
        "print(countries)"
      ],
      "metadata": {
        "colab": {
          "base_uri": "https://localhost:8080/"
        },
        "id": "ryPNfl2CBNkp",
        "outputId": "1ca45a4a-9b9c-4219-a2ef-ea31be91dcf9"
      },
      "execution_count": null,
      "outputs": [
        {
          "output_type": "stream",
          "name": "stdout",
          "text": [
            "{'sweden': 'Malmo', 'denmark': 'copenhagen', 'norway': 'oslo', 'India': 'New delhi', 'Japan': 'Tokyo', 'New Zeland': 'Wellington'}\n"
          ]
        }
      ]
    },
    {
      "cell_type": "code",
      "source": [
        "#Yes,It look  as expected"
      ],
      "metadata": {
        "id": "6g0x6eY9Boaj"
      },
      "execution_count": null,
      "outputs": []
    },
    {
      "cell_type": "markdown",
      "metadata": {
        "id": "EYFx7RHtaaGU"
      },
      "source": [
        "__Exercise 6 f)__ Remove the key-value pair Sweden-Stockholm from the dictionary"
      ]
    },
    {
      "cell_type": "code",
      "execution_count": null,
      "metadata": {
        "id": "9gxKurA6aaGV",
        "colab": {
          "base_uri": "https://localhost:8080/",
          "height": 36
        },
        "outputId": "69d4c04a-ec80-4514-9998-6e23431052d0"
      },
      "outputs": [
        {
          "output_type": "execute_result",
          "data": {
            "text/plain": [
              "'Stockholm'"
            ],
            "application/vnd.google.colaboratory.intrinsic+json": {
              "type": "string"
            }
          },
          "metadata": {},
          "execution_count": 169
        }
      ],
      "source": [
        "countries[\"sweden\"]=\"Stockholm\"\n",
        "countries.pop(\"sweden\")\n"
      ]
    },
    {
      "cell_type": "markdown",
      "metadata": {
        "id": "mMlXMVWDaaGW"
      },
      "source": [
        "__Exercise 6 g)__ Print the dictionary. Does it look as expected?"
      ]
    },
    {
      "cell_type": "code",
      "execution_count": null,
      "metadata": {
        "id": "3d8nWPBCaaGX",
        "colab": {
          "base_uri": "https://localhost:8080/"
        },
        "outputId": "2ac9bc2b-8683-4022-b766-3684978f070c"
      },
      "outputs": [
        {
          "output_type": "stream",
          "name": "stdout",
          "text": [
            "{'denmark': 'copenhagen', 'norway': 'oslo', 'India': 'New delhi', 'Japan': 'Tokyo', 'New Zeland': 'Wellington'}\n"
          ]
        }
      ],
      "source": [
        "print(countries)"
      ]
    },
    {
      "cell_type": "code",
      "source": [
        "#Yes,It look as expected"
      ],
      "metadata": {
        "id": "zRrkUtdRE2y4"
      },
      "execution_count": null,
      "outputs": []
    },
    {
      "cell_type": "markdown",
      "metadata": {
        "id": "qhHsWnYUaaGY"
      },
      "source": [
        "__Exercise 6 g)__ Print each key-value pair in the dictionary countries"
      ]
    },
    {
      "cell_type": "code",
      "source": [
        "countries[\"sweden\"]=\"Stockholm\"\n",
        "print(countries)"
      ],
      "metadata": {
        "colab": {
          "base_uri": "https://localhost:8080/"
        },
        "id": "NeLPs-AvFE5o",
        "outputId": "5c1f3e2e-5c98-4c57-9b09-e5c026bdca30"
      },
      "execution_count": null,
      "outputs": [
        {
          "output_type": "stream",
          "name": "stdout",
          "text": [
            "{'denmark': 'copenhagen', 'norway': 'oslo', 'India': 'New delhi', 'Japan': 'Tokyo', 'New Zeland': 'Wellington', 'sweden': 'Stockholm'}\n"
          ]
        }
      ]
    },
    {
      "cell_type": "code",
      "execution_count": null,
      "metadata": {
        "id": "M6cH42lSaaGZ",
        "outputId": "95ff2a95-81cf-4640-f8db-7d20d9349c3d",
        "colab": {
          "base_uri": "https://localhost:8080/"
        }
      },
      "outputs": [
        {
          "output_type": "stream",
          "name": "stdout",
          "text": [
            "Country: denmark, Capital: copenhagen\n",
            "Country: norway, Capital: oslo\n",
            "Country: India, Capital: New delhi\n",
            "Country: Japan, Capital: Tokyo\n",
            "Country: New Zeland, Capital: Wellington\n",
            "Country: sweden, Capital: Stockholm\n"
          ]
        }
      ],
      "source": [
        "for key, value in countries.items():\n",
        "    print(f\"Country: {key}, Capital: {value}\")"
      ]
    },
    {
      "cell_type": "markdown",
      "metadata": {
        "id": "dt0Ih9FoaaGb"
      },
      "source": [
        "# Example: Functions"
      ]
    },
    {
      "cell_type": "code",
      "execution_count": null,
      "metadata": {
        "id": "i6jiq5TMaaGk",
        "colab": {
          "base_uri": "https://localhost:8080/",
          "height": 145
        },
        "outputId": "93e2f945-d2c0-4645-e2cb-74dc42d4a4b5"
      },
      "outputs": [
        {
          "output_type": "error",
          "ename": "SyntaxError",
          "evalue": "ignored",
          "traceback": [
            "\u001b[0;36m  File \u001b[0;32m\"<ipython-input-135-4d7d6464b3e6>\"\u001b[0;36m, line \u001b[0;32m2\u001b[0m\n\u001b[0;31m    # Block of code\u001b[0m\n\u001b[0m                   ^\u001b[0m\n\u001b[0;31mSyntaxError\u001b[0m\u001b[0;31m:\u001b[0m incomplete input\n"
          ]
        }
      ],
      "source": [
        "def function_name(param1, param2):\n",
        "    # Block of code"
      ]
    },
    {
      "cell_type": "markdown",
      "metadata": {
        "id": "qjZmNRyMaaGl"
      },
      "source": [
        "We will start with creating a function that can add two numbers."
      ]
    },
    {
      "cell_type": "code",
      "execution_count": null,
      "metadata": {
        "id": "uJLEPIMFaaGm"
      },
      "outputs": [],
      "source": [
        "def add_two_numbers(number1, number2):\n",
        "    result = number1 + number2\n",
        "    return result"
      ]
    },
    {
      "cell_type": "markdown",
      "metadata": {
        "id": "Rg08uc5LaaGo"
      },
      "source": [
        "Let's try to use it!"
      ]
    },
    {
      "cell_type": "code",
      "execution_count": null,
      "metadata": {
        "id": "xGktNMMdaaGp",
        "colab": {
          "base_uri": "https://localhost:8080/"
        },
        "outputId": "5f650a6c-2899-4b2c-83b9-64cd9db629b3"
      },
      "outputs": [
        {
          "output_type": "execute_result",
          "data": {
            "text/plain": [
              "3"
            ]
          },
          "metadata": {},
          "execution_count": 137
        }
      ],
      "source": [
        "add_two_numbers(1,2)"
      ]
    },
    {
      "cell_type": "code",
      "execution_count": null,
      "metadata": {
        "id": "a-eA-ZOIaaGq",
        "colab": {
          "base_uri": "https://localhost:8080/"
        },
        "outputId": "ff3726fa-3baa-4ac2-de90-0e8a7aa6b5de"
      },
      "outputs": [
        {
          "output_type": "execute_result",
          "data": {
            "text/plain": [
              "25"
            ]
          },
          "metadata": {},
          "execution_count": 138
        }
      ],
      "source": [
        "add_two_numbers(5,20)"
      ]
    },
    {
      "cell_type": "markdown",
      "metadata": {
        "id": "qdeFDvKWaaGr"
      },
      "source": [
        "__Exercise 7 a)__ Create a function that can calculate the difference between two numbers"
      ]
    },
    {
      "cell_type": "code",
      "execution_count": null,
      "metadata": {
        "id": "MibiLXrPaaGs"
      },
      "outputs": [],
      "source": [
        "def Difference_betn_numbers(number1, number2):\n",
        "    result = number1 - number2\n",
        "    return result"
      ]
    },
    {
      "cell_type": "markdown",
      "metadata": {
        "id": "yPTbNIJnaaGt"
      },
      "source": [
        "__Exercise 7 b)__ Use the function. Does it return the expected results?"
      ]
    },
    {
      "cell_type": "code",
      "source": [
        "Difference_betn_numbers(4, 3)"
      ],
      "metadata": {
        "colab": {
          "base_uri": "https://localhost:8080/"
        },
        "id": "gxQmT2OosX6m",
        "outputId": "2b5d85cc-38bd-4e44-a6ca-59da7c4d8d59"
      },
      "execution_count": null,
      "outputs": [
        {
          "output_type": "execute_result",
          "data": {
            "text/plain": [
              "1"
            ]
          },
          "metadata": {},
          "execution_count": 140
        }
      ]
    },
    {
      "cell_type": "code",
      "source": [
        "Difference_betn_numbers(139493,8812988)"
      ],
      "metadata": {
        "colab": {
          "base_uri": "https://localhost:8080/"
        },
        "id": "guVMLvnkswpD",
        "outputId": "3fc0a0cf-5b7d-4b01-a143-d939e63bf324"
      },
      "execution_count": null,
      "outputs": [
        {
          "output_type": "execute_result",
          "data": {
            "text/plain": [
              "-8673495"
            ]
          },
          "metadata": {},
          "execution_count": 141
        }
      ]
    },
    {
      "cell_type": "code",
      "source": [
        "#Yes,It return expected results."
      ],
      "metadata": {
        "id": "qvQgX5bss1hh"
      },
      "execution_count": null,
      "outputs": []
    },
    {
      "cell_type": "markdown",
      "metadata": {
        "id": "oV8VYH0laaGv"
      },
      "source": [
        "__Exercise 7 c)__ Create a function that can multiply two numbers"
      ]
    },
    {
      "cell_type": "code",
      "source": [
        "def Multiply(number1, number2):\n",
        "    result = number1 * number2\n",
        "    return result"
      ],
      "metadata": {
        "id": "IC8wPaS_s0nE"
      },
      "execution_count": null,
      "outputs": []
    },
    {
      "cell_type": "markdown",
      "metadata": {
        "id": "vRR2GnTtaaGw"
      },
      "source": [
        "__Exercise 7 d)__ Use the function. Does it return the expected results?"
      ]
    },
    {
      "cell_type": "code",
      "execution_count": null,
      "metadata": {
        "id": "tIMzs7QTaaGx",
        "colab": {
          "base_uri": "https://localhost:8080/"
        },
        "outputId": "dbfc17a1-90ff-44a8-856a-eb8b35bee8fe"
      },
      "outputs": [
        {
          "output_type": "execute_result",
          "data": {
            "text/plain": [
              "200"
            ]
          },
          "metadata": {},
          "execution_count": 144
        }
      ],
      "source": [
        "Multiply(5, 40)"
      ]
    },
    {
      "cell_type": "code",
      "source": [
        "Multiply(500, 799)"
      ],
      "metadata": {
        "colab": {
          "base_uri": "https://localhost:8080/"
        },
        "id": "s_VZ3SyP71oO",
        "outputId": "1f01b90b-8692-4929-a922-24bf433c7a26"
      },
      "execution_count": null,
      "outputs": [
        {
          "output_type": "execute_result",
          "data": {
            "text/plain": [
              "399500"
            ]
          },
          "metadata": {},
          "execution_count": 145
        }
      ]
    },
    {
      "cell_type": "code",
      "source": [
        "#Yes,It return the expected results."
      ],
      "metadata": {
        "id": "SVpuYOXY6w59"
      },
      "execution_count": null,
      "outputs": []
    },
    {
      "cell_type": "markdown",
      "metadata": {
        "id": "fvTYfZUXaaGz"
      },
      "source": [
        "__Exercise 7 e)__ Create a function that can divide two numbers"
      ]
    },
    {
      "cell_type": "code",
      "source": [
        "def Divide(number1, number2):\n",
        "    result = number1 / number2\n",
        "    return result"
      ],
      "metadata": {
        "id": "nPLn85yJ6qql"
      },
      "execution_count": null,
      "outputs": []
    },
    {
      "cell_type": "markdown",
      "metadata": {
        "id": "J158ax3PaaG2"
      },
      "source": [
        "__Exercise 7 f)__ Use the function. Does it return the expected results?"
      ]
    },
    {
      "cell_type": "code",
      "execution_count": null,
      "metadata": {
        "id": "yxHUJCe5aaG4",
        "colab": {
          "base_uri": "https://localhost:8080/"
        },
        "outputId": "65cf1601-7f67-454d-9a2c-52eefc32d5c2"
      },
      "outputs": [
        {
          "output_type": "execute_result",
          "data": {
            "text/plain": [
              "0.5"
            ]
          },
          "metadata": {},
          "execution_count": 148
        }
      ],
      "source": [
        "Divide(4,8)"
      ]
    },
    {
      "cell_type": "code",
      "execution_count": null,
      "metadata": {
        "id": "aGVcdE-AaaG5",
        "colab": {
          "base_uri": "https://localhost:8080/"
        },
        "outputId": "83aee016-930c-4314-c42f-c03fe4031836"
      },
      "outputs": [
        {
          "output_type": "execute_result",
          "data": {
            "text/plain": [
              "8.0"
            ]
          },
          "metadata": {},
          "execution_count": 149
        }
      ],
      "source": [
        "Divide(160,20)"
      ]
    },
    {
      "cell_type": "code",
      "source": [
        "Divide(999,1099)"
      ],
      "metadata": {
        "colab": {
          "base_uri": "https://localhost:8080/"
        },
        "id": "k8zmvAJE7jeg",
        "outputId": "bc5339e7-52b6-40e8-eb35-42a5e74f1c24"
      },
      "execution_count": null,
      "outputs": [
        {
          "output_type": "execute_result",
          "data": {
            "text/plain": [
              "0.9090081892629663"
            ]
          },
          "metadata": {},
          "execution_count": 150
        }
      ]
    },
    {
      "cell_type": "code",
      "source": [
        "#Yes,It return the expected results."
      ],
      "metadata": {
        "id": "76h2dmIw7VT7"
      },
      "execution_count": null,
      "outputs": []
    }
  ],
  "metadata": {
    "kernelspec": {
      "display_name": "Python 3 (ipykernel)",
      "language": "python",
      "name": "python3"
    },
    "language_info": {
      "codemirror_mode": {
        "name": "ipython",
        "version": 3
      },
      "file_extension": ".py",
      "mimetype": "text/x-python",
      "name": "python",
      "nbconvert_exporter": "python",
      "pygments_lexer": "ipython3",
      "version": "3.8.8"
    },
    "colab": {
      "provenance": []
    }
  },
  "nbformat": 4,
  "nbformat_minor": 0
}