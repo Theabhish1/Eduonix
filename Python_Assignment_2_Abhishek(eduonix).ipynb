{
  "cells": [
    {
      "cell_type": "markdown",
      "id": "8d7ab3bd",
      "metadata": {
        "id": "8d7ab3bd"
      },
      "source": [
        "# Python Assignment - 2\n",
        "### Total - 30 marks"
      ]
    },
    {
      "cell_type": "markdown",
      "id": "6984940a",
      "metadata": {
        "id": "6984940a"
      },
      "source": [
        "#### 1. Create a list of student and their subjects and then print the count of the subjects each student is having."
      ]
    },
    {
      "cell_type": "markdown",
      "id": "2167cbb2",
      "metadata": {
        "id": "2167cbb2"
      },
      "source": [
        "Ex: List should be of the this format\n",
        " [('Justin', ['Math', 'CompSci']),\n",
        " ('Eden', ['CompSci', 'Accounting', 'Economics'])]\n",
        "\n",
        " and the output be like,\n",
        "\n",
        "Justin takes 2 subjects\n",
        "Eden takes 3 subjects"
      ]
    },
    {
      "cell_type": "code",
      "execution_count": null,
      "id": "c7115c59",
      "metadata": {
        "colab": {
          "base_uri": "https://localhost:8080/"
        },
        "id": "c7115c59",
        "outputId": "d59e1f5e-fe04-4f7e-e6c3-75d9e133f39d"
      },
      "outputs": [
        {
          "output_type": "stream",
          "name": "stdout",
          "text": [
            "Justin takes 2 subjects\n",
            "Eden takes 3 subjects\n"
          ]
        }
      ],
      "source": [
        "student_subjects = [('Justin', ['Math', 'CompSci']),('Eden', ['CompSci', 'Accounting', 'Economics']),]\n",
        "for student, subjects in student_subjects:\n",
        "    subject_count = len(subjects)\n",
        "    print(f\"{student} takes {subject_count} subjects\")\n"
      ]
    },
    {
      "cell_type": "markdown",
      "id": "44bb9ea8",
      "metadata": {
        "id": "44bb9ea8"
      },
      "source": [
        "#### 2. Count the total number of digits in a number (ex: A mobile number)"
      ]
    },
    {
      "cell_type": "markdown",
      "id": "1d2ab3cb",
      "metadata": {
        "id": "1d2ab3cb"
      },
      "source": [
        "Ex:\n",
        "number be like some random mobile number,\n",
        "\n",
        "9848000000\n",
        "\n",
        "\n",
        "the count of the this should be 10"
      ]
    },
    {
      "cell_type": "code",
      "execution_count": null,
      "id": "747e9a6d",
      "metadata": {
        "colab": {
          "base_uri": "https://localhost:8080/"
        },
        "id": "747e9a6d",
        "outputId": "323e306a-333c-4450-9978-458797e41c7d"
      },
      "outputs": [
        {
          "output_type": "stream",
          "name": "stdout",
          "text": [
            "The total number of digits in the mobile number 9848000000 is: 10\n"
          ]
        }
      ],
      "source": [
        "mobile_number = \"9848000000\"\n",
        "digit_count = len(mobile_number)\n",
        "print(f\"The total number of digits in the mobile number {mobile_number} is: {digit_count}\")\n"
      ]
    },
    {
      "cell_type": "markdown",
      "id": "3502e833",
      "metadata": {
        "id": "3502e833"
      },
      "source": [
        "#### 3. Create a for loop that prompts the user for a skill 3 times, then print the appended skills."
      ]
    },
    {
      "cell_type": "code",
      "execution_count": null,
      "id": "dd835b29",
      "metadata": {
        "colab": {
          "base_uri": "https://localhost:8080/"
        },
        "id": "dd835b29",
        "outputId": "1d25d9f9-de9a-418f-d375-a30b4a2593c1"
      },
      "outputs": [
        {
          "output_type": "stream",
          "name": "stdout",
          "text": [
            "Enter skill 1: Marketing\n",
            "Enter skill 2: Coding\n",
            "Enter skill 3: Data science\n",
            "Appended skills:\n",
            "Marketing\n",
            "Coding\n",
            "Data science\n"
          ]
        }
      ],
      "source": [
        "skills = []\n",
        "for i in range(3):\n",
        "    skill = input(f\"Enter skill {i + 1}: \")\n",
        "    skills.append(skill)\n",
        "print(\"Appended skills:\")\n",
        "for skill in skills:\n",
        "    print(skill)\n"
      ]
    },
    {
      "cell_type": "markdown",
      "id": "309395ff",
      "metadata": {
        "id": "309395ff"
      },
      "source": [
        "#### 4. Define your commercial computation program with hourly rate for usual timings and extra for overtime. Create a function called commercials_calculator which takes two parameters (hours and rate).\n",
        "\n",
        "Enter Hours: 45\n",
        "\n",
        "Enter Rate: 10\n",
        "\n",
        "Pay: 475.0"
      ]
    },
    {
      "cell_type": "code",
      "execution_count": 1,
      "id": "48928dc7",
      "metadata": {
        "colab": {
          "base_uri": "https://localhost:8080/"
        },
        "id": "48928dc7",
        "outputId": "fb5c0e55-e903-4621-c993-76b9bd44807f"
      },
      "outputs": [
        {
          "output_type": "stream",
          "name": "stdout",
          "text": [
            "Enter Hours: 45\n",
            "Enter Rate: 10\n",
            "Pay: 475.16\n"
          ]
        }
      ],
      "source": [
        "def commercials_calculator(hours, rate):\n",
        "    # Check if the hours worked are within the usual timings (e.g., 8 hours)\n",
        "    usual_hours = 8\n",
        "    if hours <= usual_hours:\n",
        "        total_payment = hours * rate\n",
        "    else:\n",
        "        # Calculate payment for usual hours\n",
        "        usual_payment = usual_hours * rate\n",
        "\n",
        "        # Calculate payment for overtime hours (hours beyond usual timings)\n",
        "        overtime_hours = hours - usual_hours\n",
        "        overtime_rate = rate * 1.068 # Assuming 1.068x rate for overtime\n",
        "        overtime_payment = overtime_hours * overtime_rate\n",
        "\n",
        "        # Calculate total payment\n",
        "        total_payment = usual_payment + overtime_payment\n",
        "\n",
        "    return total_payment\n",
        "\n",
        "# Input hours and rate from the user\n",
        "hours_worked = float(input(\"Enter Hours: \"))\n",
        "hourly_rate = float(input(\"Enter Rate: \"))\n",
        "\n",
        "# Calculate total payment using the commercials_calculator function\n",
        "total_payment = commercials_calculator(hours_worked, hourly_rate)\n",
        "\n",
        "# Print the total payment10\n",
        "print(f\"Pay: {total_payment:.2f}\")\n"
      ]
    },
    {
      "cell_type": "code",
      "source": [],
      "metadata": {
        "id": "BglEQwAvNcaN"
      },
      "id": "BglEQwAvNcaN",
      "execution_count": null,
      "outputs": []
    }
  ],
  "metadata": {
    "kernelspec": {
      "display_name": "Python 3 (ipykernel)",
      "language": "python",
      "name": "python3"
    },
    "language_info": {
      "codemirror_mode": {
        "name": "ipython",
        "version": 3
      },
      "file_extension": ".py",
      "mimetype": "text/x-python",
      "name": "python",
      "nbconvert_exporter": "python",
      "pygments_lexer": "ipython3",
      "version": "3.8.8"
    },
    "colab": {
      "provenance": []
    }
  },
  "nbformat": 4,
  "nbformat_minor": 5
}