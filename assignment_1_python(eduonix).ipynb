{
  "cells": [
    {
      "cell_type": "markdown",
      "metadata": {
        "id": "fb933f7e"
      },
      "source": [
        "# Python Assignment - 1\n",
        "#### Carries 30 marks"
      ],
      "id": "fb933f7e"
    },
    {
      "cell_type": "markdown",
      "metadata": {
        "id": "b4896514"
      },
      "source": [
        "### Write a Python program to sum of three given integers. However, if two values are equal sum will be zero."
      ],
      "id": "b4896514"
    },
    {
      "cell_type": "code",
      "execution_count": null,
      "metadata": {
        "colab": {
          "base_uri": "https://localhost:8080/"
        },
        "id": "230cee62",
        "outputId": "5a63c24d-6620-4210-f114-20e682a38349"
      },
      "outputs": [
        {
          "name": "stdout",
          "output_type": "stream",
          "text": [
            "Enter the first integer: 6\n",
            "Enter the second integer: 6\n",
            "Enter the third integer: 9\n",
            "The sum with the condition is: 0\n"
          ]
        }
      ],
      "source": [
        "def sum_with_condition(a, b, c):\n",
        "    if a == b or b == c or a == c:\n",
        "      return 0\n",
        "    else:\n",
        "        return a + b + c\n",
        "num1 = int(input(\"Enter the first integer: \"))\n",
        "num2 = int(input(\"Enter the second integer: \"))\n",
        "num3 = int(input(\"Enter the third integer: \"))\n",
        "\n",
        "result = sum_with_condition(num1, num2, num3)\n",
        "\n",
        "print(\"The sum with the condition is:\", result)\n"
      ],
      "id": "230cee62"
    },
    {
      "cell_type": "markdown",
      "metadata": {
        "id": "44498b23"
      },
      "source": [
        "### Write a Python program to test whether a passed letter is a vowel or not."
      ],
      "id": "44498b23"
    },
    {
      "cell_type": "code",
      "execution_count": null,
      "metadata": {
        "colab": {
          "base_uri": "https://localhost:8080/"
        },
        "id": "5800a1e9",
        "outputId": "c54acff6-dd83-4b18-eebf-59154e36072c"
      },
      "outputs": [
        {
          "name": "stdout",
          "output_type": "stream",
          "text": [
            "Enter a letter: b\n",
            "b is not a vowel.\n"
          ]
        }
      ],
      "source": [
        "def is_vowel(letter):\n",
        "    vowels = \"aeiouAEIOU\"\n",
        "    if letter in vowels:\n",
        "        return True\n",
        "    else:\n",
        "        return False\n",
        "\n",
        "letter = input(\"Enter a letter: \")\n",
        "if len(letter) == 1 :\n",
        "    if is_vowel(letter):\n",
        "        print(f\"{letter} is a vowel.\")\n",
        "    else:\n",
        "        print(f\"{letter} is not a vowel.\")\n",
        "else:\n",
        "    print(\"Please enter a single letter.\")"
      ],
      "id": "5800a1e9"
    },
    {
      "cell_type": "markdown",
      "metadata": {
        "id": "999e1c55"
      },
      "source": [
        "### Write python program that swap two number with temp variable and without temp variable."
      ],
      "id": "999e1c55"
    },
    {
      "cell_type": "code",
      "execution_count": null,
      "metadata": {
        "colab": {
          "base_uri": "https://localhost:8080/"
        },
        "id": "71b08ddf",
        "outputId": "ef6bd57b-fc84-476f-e9a2-0272805d89a6"
      },
      "outputs": [
        {
          "name": "stdout",
          "output_type": "stream",
          "text": [
            "Enter the first number: 1\n",
            "Enter the second number: 2\n",
            "After swapping (with temp variable):\n",
            "First number: 2.0\n",
            "Second number: 1.0\n"
          ]
        }
      ],
      "source": [
        "# Swap two numbers with a temporary variable\n",
        "def swap_with_temp(a, b):\n",
        "    temp = a\n",
        "    a = b\n",
        "    b = temp\n",
        "    return a, b\n",
        "\n",
        "# Input two numbers from the user\n",
        "num1 = float(input(\"Enter the first number: \"))\n",
        "num2 = float(input(\"Enter the second number: \"))\n",
        "\n",
        "# Swap the numbers using a temporary variable\n",
        "num1, num2 = swap_with_temp(num1, num2)\n",
        "\n",
        "print(\"After swapping (with temp variable):\")\n",
        "print(\"First number:\", num1)\n",
        "print(\"Second number:\", num2)"
      ],
      "id": "71b08ddf"
    },
    {
      "cell_type": "code",
      "execution_count": null,
      "metadata": {
        "colab": {
          "base_uri": "https://localhost:8080/"
        },
        "id": "QpTtvz5hDHWP",
        "outputId": "a1754ca7-d4ea-4c06-a98f-331671c66a51"
      },
      "outputs": [
        {
          "name": "stdout",
          "output_type": "stream",
          "text": [
            "Enter the first number: 38\n",
            "Enter the second number: 999\n",
            "After swapping (without temp variable):\n",
            "First number: 999.0\n",
            "Second number: 38.0\n"
          ]
        }
      ],
      "source": [
        "# Swap two numbers without a temporary variable using arithmetic operations\n",
        "def swap_without_temp(a, b):\n",
        "    a = a + b\n",
        "    b = a - b\n",
        "    a = a - b\n",
        "    return a, b\n",
        "\n",
        "num1 = float(input(\"Enter the first number: \"))\n",
        "num2 = float(input(\"Enter the second number: \"))\n",
        "\n",
        "# Swap the numbers without a temporary variable\n",
        "num1, num2 = swap_without_temp(num1, num2)\n",
        "\n",
        "print(\"After swapping (without temp variable):\")\n",
        "print(\"First number:\", num1)\n",
        "print(\"Second number:\", num2)\n"
      ],
      "id": "QpTtvz5hDHWP"
    },
    {
      "cell_type": "markdown",
      "metadata": {
        "id": "d9805ba4"
      },
      "source": [
        "#4. Write a Python program to calculate the length of a string."
      ],
      "id": "d9805ba4"
    },
    {
      "cell_type": "code",
      "execution_count": null,
      "metadata": {
        "colab": {
          "base_uri": "https://localhost:8080/"
        },
        "id": "df81befe",
        "outputId": "96058a32-2c9f-4bdd-da47-29321175e43c"
      },
      "outputs": [
        {
          "name": "stdout",
          "output_type": "stream",
          "text": [
            "Enter a string: Abhishek Manoj Jaiswal\n",
            "The length of the string is: 22\n"
          ]
        }
      ],
      "source": [
        "input_string = input(\"Enter a string: \")\n",
        "string_length = len(input_string)\n",
        "print(f\"The length of the string is: {string_length}\")"
      ],
      "id": "df81befe"
    },
    {
      "cell_type": "markdown",
      "metadata": {
        "id": "99144e41"
      },
      "source": [
        "### Write a Python program to find whether a given number is even or odd,print out an appropriate message to the user."
      ],
      "id": "99144e41"
    },
    {
      "cell_type": "code",
      "execution_count": null,
      "metadata": {
        "colab": {
          "base_uri": "https://localhost:8080/"
        },
        "id": "dbbf15d7",
        "outputId": "1f42b859-507a-4809-9181-5190f28f7acf"
      },
      "outputs": [
        {
          "name": "stdout",
          "output_type": "stream",
          "text": [
            "Enter a number: 333\n",
            "333 is an odd number.\n"
          ]
        }
      ],
      "source": [
        "num = int(input(\"Enter a number: \"))\n",
        "if num % 2 == 0:\n",
        "    print(f\"{num} is an even number.\")\n",
        "else:\n",
        "    print(f\"{num} is an odd number.\")"
      ],
      "id": "dbbf15d7"
    },
    {
      "cell_type": "markdown",
      "metadata": {
        "id": "0a560977"
      },
      "source": [
        "### write a programme to find biggest number of given three values."
      ],
      "id": "0a560977"
    },
    {
      "cell_type": "code",
      "execution_count": null,
      "metadata": {
        "colab": {
          "base_uri": "https://localhost:8080/"
        },
        "id": "4f3fa091",
        "outputId": "8f73b7e5-0d88-420e-d65e-7fefdc109661"
      },
      "outputs": [
        {
          "name": "stdout",
          "output_type": "stream",
          "text": [
            "Enter the first number: 999\n",
            "Enter the second number: 9999\n",
            "Enter the third number: 99999999\n",
            "The largest number among 999.0 9999.0 and 99999999.0 is: 99999999.0\n"
          ]
        }
      ],
      "source": [
        "num1 = float(input(\"Enter the first number: \"))\n",
        "num2 = float(input(\"Enter the second number: \"))\n",
        "num3 = float(input(\"Enter the third number: \"))\n",
        "if num1 >= num2 and num1 >= num3:\n",
        "    largest = num1\n",
        "elif num2 >= num1 and num2 >= num3:\n",
        "    largest = num2\n",
        "else:\n",
        "    largest = num3\n",
        "\n",
        "print(\"The largest number among\", num1, num2, \"and\", num3, \"is:\", largest)"
      ],
      "id": "4f3fa091"
    },
    {
      "cell_type": "markdown",
      "metadata": {
        "id": "5327a33b"
      },
      "source": [
        "### Write a Python program that will return true if the two given integer values are equal or their sum or difference is 5."
      ],
      "id": "5327a33b"
    },
    {
      "cell_type": "code",
      "execution_count": null,
      "metadata": {
        "colab": {
          "base_uri": "https://localhost:8080/"
        },
        "id": "1aa41bcc",
        "outputId": "540c9d88-e332-4b75-83f1-41e985f5c222"
      },
      "outputs": [
        {
          "name": "stdout",
          "output_type": "stream",
          "text": [
            "Enter the first integer: 11\n",
            "Enter the second integer: 6\n",
            "True\n"
          ]
        }
      ],
      "source": [
        "def check_values(a, b):\n",
        "    return a == b or (a - b) == 5 or a + b == 5\n",
        "\n",
        "num1 = int(input(\"Enter the first integer: \"))\n",
        "num2 = int(input(\"Enter the second integer: \"))\n",
        "\n",
        "if check_values(num1, num2):\n",
        "    print(\"True\")\n",
        "else:\n",
        "    print(\"False\")"
      ],
      "id": "1aa41bcc"
    },
    {
      "cell_type": "markdown",
      "metadata": {
        "id": "b1075328"
      },
      "source": [
        "#6 Write a python program to sum of the first n positive integers."
      ],
      "id": "b1075328"
    },
    {
      "cell_type": "code",
      "execution_count": null,
      "metadata": {
        "colab": {
          "base_uri": "https://localhost:8080/"
        },
        "id": "5d474698",
        "outputId": "75e0b02c-e096-4e92-fb35-3bbb71cbd196"
      },
      "outputs": [
        {
          "name": "stdout",
          "output_type": "stream",
          "text": [
            "Enter a positive integer (n): 3\n",
            "The sum of the first 3 positive integers is: 6\n"
          ]
        }
      ],
      "source": [
        "n = int(input(\"Enter a positive integer (n): \"))\n",
        "\n",
        "# Initialize a variable to store the sum\n",
        "sum_of_integers = 0\n",
        "\n",
        "# Check if n is a positive integer\n",
        "if n <= 0:\n",
        "    print(\"Please enter a positive integer.\")\n",
        "else:\n",
        "# Calculate the sum of the first n positive integers\n",
        "    for i in range(1, n + 1):\n",
        "        sum_of_integers += i\n",
        "# Print the result\n",
        "    print(\"The sum of the first\", n, \"positive integers is:\", sum_of_integers)\n"
      ],
      "id": "5d474698"
    },
    {
      "cell_type": "markdown",
      "metadata": {
        "id": "e480000b"
      },
      "source": [
        "### Write a Python program to calculate the length of a string."
      ],
      "id": "e480000b"
    },
    {
      "cell_type": "code",
      "execution_count": null,
      "metadata": {
        "colab": {
          "base_uri": "https://localhost:8080/"
        },
        "id": "e154e64e",
        "outputId": "99326361-1e86-4521-9544-7efba4e7ff3c"
      },
      "outputs": [
        {
          "name": "stdout",
          "output_type": "stream",
          "text": [
            "Enter a string: abhishek\n",
            "The length of the string is: 8\n"
          ]
        }
      ],
      "source": [
        "input_string = input(\"Enter a string: \")\n",
        "string_length = len(input_string)\n",
        "print(f\"The length of the string is: {string_length}\")\n"
      ],
      "id": "e154e64e"
    },
    {
      "cell_type": "markdown",
      "metadata": {
        "id": "83f1be28"
      },
      "source": [
        "### What is the purpose continue statement in python?"
      ],
      "id": "83f1be28"
    },
    {
      "cell_type": "markdown",
      "source": [
        "In Python, the continue statement is used within loops (such as for and while loops) to control the flow of the program.\n",
        "Its primary purpose is to skip the rest of the current iteration of the loop and move on to the next iteration.\n",
        "In other words, when a continue statement is encountered, it immediately stops the current iteration and continues with the next iteration of the loop."
      ],
      "metadata": {
        "id": "moX9zPInbfaj"
      },
      "id": "moX9zPInbfaj"
    },
    {
      "cell_type": "code",
      "execution_count": null,
      "metadata": {
        "colab": {
          "base_uri": "https://localhost:8080/"
        },
        "id": "abb0ca64",
        "outputId": "d0711b99-14a3-47b1-ec3c-c12af3081900"
      },
      "outputs": [
        {
          "name": "stdout",
          "output_type": "stream",
          "text": [
            "1\n",
            "2\n",
            "4\n",
            "5\n",
            "Enter 'q' to quit or any other key to continue: g\n",
            "Processing...\n",
            "Enter 'q' to quit or any other key to continue: c\n",
            "Processing...\n",
            "Enter 'q' to quit or any other key to continue: v\n",
            "Processing...\n",
            "Enter 'q' to quit or any other key to continue: q\n"
          ]
        }
      ],
      "source": [
        "#The main purposes of the continue statement are:\n",
        "#1. Skipping specific iterations:\n",
        "for i in range(1, 6):\n",
        "    if i == 3:\n",
        "      continue  # Skip iteration when i equals 3\n",
        "    print(i)\n",
        "\n",
        "#2 Avoiding unnecessary code execution\n",
        "while True:\n",
        "    user_input = input(\"Enter 'q' to quit or any other key to continue: \")\n",
        "    if user_input == 'q':\n",
        "        break\n",
        "\n",
        "    print(\"Processing...\")"
      ],
      "id": "abb0ca64"
    },
    {
      "cell_type": "markdown",
      "metadata": {
        "id": "728d8b7a"
      },
      "source": [
        "### Write a Python program to add 'ing' at the end of a given string (length should be at least 3). If the given string already ends with 'ing' then add 'ly' instead if the string length of the given string is less than 3, leave it unchanged.\n"
      ],
      "id": "728d8b7a"
    },
    {
      "cell_type": "code",
      "execution_count": 1,
      "metadata": {
        "colab": {
          "base_uri": "https://localhost:8080/"
        },
        "id": "c90c977e",
        "outputId": "ccb6ae33-0f80-4c74-9f2a-54ca47de8510"
      },
      "outputs": [
        {
          "output_type": "stream",
          "name": "stdout",
          "text": [
            "Enter a string: marketing\n",
            "Modified string: marketingly\n"
          ]
        }
      ],
      "source": [
        "input_string = input(\"Enter a string: \")\n",
        "if len(input_string) >= 3:\n",
        "    # Check if the string already ends with 'ing'\n",
        "    if input_string.endswith('ing'):\n",
        "        modified_string = input_string + 'ly'\n",
        "    else:\n",
        "        modified_string = input_string + 'ing'\n",
        "else:\n",
        "    modified_string = input_string\n",
        "\n",
        "# Print the modified string\n",
        "print(\"Modified string:\", modified_string)"
      ],
      "id": "c90c977e"
    },
    {
      "cell_type": "markdown",
      "metadata": {
        "id": "78208ba5"
      },
      "source": [
        "### Write a Python program to find the first appearance of the substring 'not' and 'poor' from a given string, if 'not' follows the 'poor', replace the whole 'not'...'poor' substring with 'good'. Return the resulting string"
      ],
      "id": "78208ba5"
    },
    {
      "cell_type": "code",
      "execution_count": null,
      "metadata": {
        "colab": {
          "base_uri": "https://localhost:8080/"
        },
        "id": "7d8711c7",
        "outputId": "8766d6d5-d927-4f8c-ba7c-31872232131e"
      },
      "outputs": [
        {
          "name": "stdout",
          "output_type": "stream",
          "text": [
            "Enter a string: not poor\n",
            "Resulting string: good\n"
          ]
        }
      ],
      "source": [
        "def replace_not_poor(input_string):\n",
        "    # Find the positions of 'not' and 'poor' in the string\n",
        "    not_index = input_string.find('not')\n",
        "    poor_index = input_string.find('poor')\n",
        "\n",
        "    # Check if both 'not' and 'poor' are present and 'not' comes before 'poor'\n",
        "    if not_index != -1 and poor_index != -1 and not_index < poor_index:\n",
        "        # Replace the 'not'...'poor' substring with 'good'\n",
        "        return input_string[:not_index] + 'good' + input_string[poor_index + 4:]\n",
        "    else:\n",
        "        # Return the original string\n",
        "        return input_string\n",
        "\n",
        "# Input a string from the user\n",
        "input_string = input(\"Enter a string: \")\n",
        "\n",
        "# Call the function to replace 'not'...'poor' with 'good' if needed\n",
        "result = replace_not_poor(input_string)\n",
        "\n",
        "# Print the resulting string\n",
        "print(\"Resulting string:\", result)\n"
      ],
      "id": "7d8711c7"
    },
    {
      "cell_type": "markdown",
      "metadata": {
        "id": "7f264574"
      },
      "source": [
        "### Write a Python function to insert a string in the middle of a string."
      ],
      "id": "7f264574"
    },
    {
      "cell_type": "code",
      "execution_count": 3,
      "metadata": {
        "colab": {
          "base_uri": "https://localhost:8080/"
        },
        "id": "f4a4cffe",
        "outputId": "9f323e70-5f50-4788-d123-2b3cc9636059"
      },
      "outputs": [
        {
          "output_type": "stream",
          "name": "stdout",
          "text": [
            "Enter string: Hello, World\n",
            "Enter string: Namaste\n",
            "Resulting string: Hello,Namaste World\n"
          ]
        }
      ],
      "source": [
        "def insert_middle(main_string, insert_string):\n",
        "    middle_index = len(main_string) // 2\n",
        "\n",
        "    result_string = main_string[:middle_index] + insert_string + main_string[middle_index:]\n",
        "    return result_string\n",
        "\n",
        "main_str =str(input(\"Enter string: \"))\n",
        "insert_str = str(input(\"Enter string: \"))\n",
        "\n",
        "# Call the function to insert the insert_str into the middle of the main_str\n",
        "result = insert_middle(main_str, insert_str)\n",
        "\n",
        "print(\"Resulting string:\", result)"
      ],
      "id": "f4a4cffe"
    },
    {
      "cell_type": "markdown",
      "metadata": {
        "id": "5435ccd0"
      },
      "source": [
        "### reverses a string if its length is a multiple of 4."
      ],
      "id": "5435ccd0"
    },
    {
      "cell_type": "code",
      "execution_count": 4,
      "metadata": {
        "colab": {
          "base_uri": "https://localhost:8080/"
        },
        "id": "PYwvakL1MUrW",
        "outputId": "09278c2d-2d75-4df5-f722-1ab17688d34b"
      },
      "outputs": [
        {
          "output_type": "stream",
          "name": "stdout",
          "text": [
            "Enter String: Abhishek\n",
            "Resulting string: kehsihbA\n"
          ]
        }
      ],
      "source": [
        "def reverse_string_if_multiple_of_4(input_string):\n",
        "    if len(input_string) % 4 == 0:\n",
        "        reversed_string = input_string[::-1]\n",
        "        return reversed_string\n",
        "    else:\n",
        "        return input_string\n",
        "\n",
        "input_str = str(input(\"Enter String: \"))\n",
        "\n",
        "# Call the function to reverse the string if its length is a multiple of 4\n",
        "result = reverse_string_if_multiple_of_4(input_str)\n",
        "\n",
        "print(\"Resulting string:\", result)"
      ],
      "id": "PYwvakL1MUrW"
    },
    {
      "cell_type": "markdown",
      "metadata": {
        "id": "48d8671f"
      },
      "source": [
        "### Write a Python program to get a string made of the first 2 and the last 2 chars from a given a string. If the string length is less than 2, return instead of the empty string."
      ],
      "id": "48d8671f"
    },
    {
      "cell_type": "code",
      "execution_count": 6,
      "metadata": {
        "colab": {
          "base_uri": "https://localhost:8080/"
        },
        "id": "b9907390",
        "outputId": "64f93221-4d7e-4328-c93d-8b7792c74145"
      },
      "outputs": [
        {
          "output_type": "stream",
          "name": "stdout",
          "text": [
            "Enter a string: k\n",
            "Resulting string: \n"
          ]
        }
      ],
      "source": [
        "def get_first_and_last_2_chars(input_string):\n",
        "    if len(input_string) < 2:\n",
        "        return \"\"  # Return an empty string if the length is less than 2\n",
        "    else:\n",
        "        return input_string[:2] + input_string[-2:]\n",
        "\n",
        "# Example usage\n",
        "input_str = input(\"Enter a string: \")\n",
        "\n",
        "# Call the function to get the modified string\n",
        "result = get_first_and_last_2_chars(input_str)\n",
        "\n",
        "# Print the resulting string\n",
        "print(\"Resulting string:\", result)\n"
      ],
      "id": "b9907390"
    },
    {
      "cell_type": "markdown",
      "metadata": {
        "id": "f0b39584"
      },
      "source": [
        "### Write a Python program to get a single string from two given strings, separated by a space and swap the first two characters of each string."
      ],
      "id": "f0b39584"
    },
    {
      "cell_type": "code",
      "execution_count": 10,
      "metadata": {
        "colab": {
          "base_uri": "https://localhost:8080/"
        },
        "id": "e3e383d3",
        "outputId": "1b2af574-6c15-4c19-a4de-3fc5e9fc4573"
      },
      "outputs": [
        {
          "output_type": "stream",
          "name": "stdout",
          "text": [
            "enter string 1: Hello\n",
            "enter string 2: Everyone\n",
            "Resulting string: Evllo Heeryone\n"
          ]
        }
      ],
      "source": [
        "def swap_first_two_chars(str1, str2):\n",
        "    # Check if both strings have at least 2 characters\n",
        "    if len(str1) >= 2 and len(str2) >= 2:\n",
        "        # Swap the first two characters of each string and concatenate with a space\n",
        "        result = str2[:2] + str1[2:] + ' ' + str1[:2] + str2[2:]\n",
        "        return result\n",
        "    else:\n",
        "        return \"Strings must have at least 2 characters each\"\n",
        "\n",
        "string1 = str(input(\"enter string 1: \"))\n",
        "string2 = str(input(\"enter string 2: \"))\n",
        "\n",
        "# Call the function to swap and concatenate the strings\n",
        "result = swap_first_two_chars(string1, string2)\n",
        "\n",
        "print(\"Resulting string:\", result)\n"
      ],
      "id": "e3e383d3"
    },
    {
      "cell_type": "markdown",
      "metadata": {
        "id": "323a62d0"
      },
      "source": [
        "### Write a Python program to get the Fibonacci series of given range."
      ],
      "id": "323a62d0"
    },
    {
      "cell_type": "code",
      "execution_count": null,
      "metadata": {
        "colab": {
          "base_uri": "https://localhost:8080/"
        },
        "id": "057b2df5",
        "outputId": "0698fa52-e25d-4e5a-cbc7-d9b1df2f8bf8"
      },
      "outputs": [
        {
          "name": "stdout",
          "output_type": "stream",
          "text": [
            "Enter the upper limit of the range: 3\n",
            "Fibonacci series within the range: [0, 1, 1, 2, 3]\n"
          ]
        }
      ],
      "source": [
        "def generate_fibonacci_series(n):\n",
        "    fibonacci_series = []\n",
        "    a, b = 0, 1\n",
        "    while a <= n:\n",
        "        fibonacci_series.append(a)\n",
        "        a, b = b, a + b\n",
        "    return fibonacci_series\n",
        "\n",
        "# Input the upper limit of the range\n",
        "n = int(input(\"Enter the upper limit of the range: \"))\n",
        "\n",
        "# Call the function to generate the Fibonacci series\n",
        "fib_series = generate_fibonacci_series(n)\n",
        "\n",
        "# Print the Fibonacci series\n",
        "print(\"Fibonacci series within the range:\", fib_series)\n"
      ],
      "id": "057b2df5"
    },
    {
      "cell_type": "markdown",
      "metadata": {
        "id": "d9013007"
      },
      "source": [
        "### Write a Python program to get the Factorial number of given number"
      ],
      "id": "d9013007"
    },
    {
      "cell_type": "code",
      "execution_count": 11,
      "metadata": {
        "colab": {
          "base_uri": "https://localhost:8080/"
        },
        "id": "da6371ef",
        "outputId": "64874cb1-828d-40e5-fdb8-81cd6cc5ee2a"
      },
      "outputs": [
        {
          "output_type": "stream",
          "name": "stdout",
          "text": [
            "Enter a number: 5\n",
            "The factorial of 5 is 120\n"
          ]
        }
      ],
      "source": [
        "def factorial(n):\n",
        "    if n < 0:\n",
        "        return \"Factorial is not defined for negative numbers\"\n",
        "    elif n == 0 or n == 1:\n",
        "        return 1\n",
        "    else:\n",
        "        result = 1\n",
        "        for i in range(2, n + 1):\n",
        "            result *= i\n",
        "        return result\n",
        "\n",
        "# Input a number from the user\n",
        "num = int(input(\"Enter a number: \"))\n",
        "\n",
        "# Call the function to calculate the factorial\n",
        "result = factorial(num)\n",
        "\n",
        "# Print the factorial\n",
        "print(f\"The factorial of {num} is {result}\")\n"
      ],
      "id": "da6371ef"
    },
    {
      "cell_type": "markdown",
      "metadata": {
        "id": "81819365"
      },
      "source": [
        "### Write a Python program to check if a number is positive, negative or zero"
      ],
      "id": "81819365"
    },
    {
      "cell_type": "code",
      "execution_count": 12,
      "metadata": {
        "colab": {
          "base_uri": "https://localhost:8080/"
        },
        "id": "fc38fb6e",
        "outputId": "2e0d089f-e637-4be5-c121-245bb508bf3d"
      },
      "outputs": [
        {
          "output_type": "stream",
          "name": "stdout",
          "text": [
            "Enter a number: 55\n",
            "55.0 is a positive number.\n"
          ]
        }
      ],
      "source": [
        "# Input a number from the user\n",
        "num = float(input(\"Enter a number: \"))\n",
        "\n",
        "# Check if the number is positive, negative, or zero\n",
        "if num > 0:\n",
        "    print(f\"{num} is a positive number.\")\n",
        "elif num < 0:\n",
        "    print(f\"{num} is a negative number.\")\n",
        "else:\n",
        "    print(f\"{num} is zero.\")\n"
      ],
      "id": "fc38fb6e"
    },
    {
      "cell_type": "markdown",
      "metadata": {
        "id": "7defed1a"
      },
      "source": [
        "##  How memory is managed in Python?\n"
      ],
      "id": "7defed1a"
    },
    {
      "cell_type": "markdown",
      "source": [
        "Memory management in Python is primarily handled by the Python memory manager, which is responsible for allocating and deallocating memory\n",
        "for objects in your Python programs. Python's memory management system is designed to be efficient and automatic, allowing developers to\n",
        "focus on writing code without worrying about low-level memory management details.\n",
        "\n",
        "\n",
        "Here are some key aspects of memory management in Python:\n",
        "1. Automatic Memory Allocation and Deallocation:\n",
        "2. Reference Counting\n",
        "3. Garbage Collection\n",
        "4. Memory Pools\n",
        "5. Dynamic Typing amd etc."
      ],
      "metadata": {
        "id": "5eNjkZzLeBcb"
      },
      "id": "5eNjkZzLeBcb"
    }
  ],
  "metadata": {
    "colab": {
      "provenance": []
    },
    "kernelspec": {
      "display_name": "Python 3 (ipykernel)",
      "language": "python",
      "name": "python3"
    },
    "language_info": {
      "codemirror_mode": {
        "name": "ipython",
        "version": 3
      },
      "file_extension": ".py",
      "mimetype": "text/x-python",
      "name": "python",
      "nbconvert_exporter": "python",
      "pygments_lexer": "ipython3",
      "version": "3.8.8"
    }
  },
  "nbformat": 4,
  "nbformat_minor": 5
}