{
  "nbformat": 4,
  "nbformat_minor": 0,
  "metadata": {
    "colab": {
      "provenance": []
    },
    "kernelspec": {
      "name": "python3",
      "display_name": "Python 3"
    },
    "language_info": {
      "name": "python"
    }
  },
  "cells": [
    {
      "cell_type": "code",
      "execution_count": 23,
      "metadata": {
        "colab": {
          "base_uri": "https://localhost:8080/"
        },
        "id": "AMdW_f7c_ZWO",
        "outputId": "17de490d-206d-4278-9a25-a0b8af265c56"
      },
      "outputs": [
        {
          "output_type": "stream",
          "name": "stdout",
          "text": [
            "Welcome to Basic Library Management\n",
            "Choose the service:\n",
            "  1. Display Available book\n",
            "  2. Borrow a Book\n",
            "  3. Return a book\n",
            "  4. Exit\n",
            "  \n",
            "Enter your choice(1-4): 4\n",
            "Exiting the Library Management system,Thank you!\n"
          ]
        }
      ],
      "source": [
        "def lms():\n",
        "  print('Welcome to Basic Library Management')\n",
        "  print('''Choose the service:\n",
        "  1. Display Available book\n",
        "  2. Borrow a Book\n",
        "  3. Return a book\n",
        "  4. Exit\n",
        "  ''')\n",
        "  choose=int(input(\"Enter your choice(1-4): \"))\n",
        "\n",
        "  if choose==1:\n",
        "    print(\"1.Book1- 5 available\")\n",
        "    print(\"2.Book1- 3 available\")\n",
        "    print(\"3.Book1- 7 available\")\n",
        "    print(\"4.Book1- 2 available\")\n",
        "    print(\"5.Book1- 4 available\")\n",
        "  elif choose==2:\n",
        "    print((input(\"Enter the title of the book you want to borrow: \")))\n",
        "    print((input(\"Enter the quantity you want to borrow: \")))\n",
        "    print(\"You have returned 2 copy(ies) of Book2,THANK YOU!\")\n",
        "  elif choose==3:\n",
        "    print((input(\"Enter the title of the book you want to return: \")))\n",
        "    print((input(\"Enter the quantity you want to return: \")))\n",
        "    print(\"You have returned 1 copy(ies) of Book2,THANK YOU!\")\n",
        "  elif choose==4:\n",
        "    exit()\n",
        "    print(\"Exiting the Library Management system,Thank you!\")\n",
        "  else:\n",
        "    print(\"You had selected no options or wrong option,Please select from 4 options\")\n",
        "  return\n",
        "\n",
        "if __name__==\"__main__\":\n",
        "  lms()"
      ]
    },
    {
      "cell_type": "code",
      "source": [],
      "metadata": {
        "id": "mUWgTtyDEo9m"
      },
      "execution_count": null,
      "outputs": []
    }
  ]
}