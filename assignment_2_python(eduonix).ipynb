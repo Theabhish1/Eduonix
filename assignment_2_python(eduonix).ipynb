{
  "cells": [
    {
      "cell_type": "markdown",
      "id": "9ab7acb3",
      "metadata": {
        "id": "9ab7acb3"
      },
      "source": [
        "# Python Assignment - 2\n",
        "### Carries - 30 marks"
      ]
    },
    {
      "cell_type": "markdown",
      "id": "d4122e1a",
      "metadata": {
        "id": "d4122e1a"
      },
      "source": [
        "## What is List? How will you reverse a list?"
      ]
    },
    {
      "cell_type": "markdown",
      "source": [
        "Answer:- A list is a data structure that stores a collection of elements, which can be of any data type, such as numbers, strings, or even other objects.\n",
        "Lists are used to organize and manipulate collections of data in a sequential order"
      ],
      "metadata": {
        "id": "6wH9lZPPFYLM"
      },
      "id": "6wH9lZPPFYLM"
    },
    {
      "cell_type": "code",
      "execution_count": null,
      "id": "ef44f9e9",
      "metadata": {
        "id": "ef44f9e9",
        "colab": {
          "base_uri": "https://localhost:8080/"
        },
        "outputId": "553a4ef1-1e0e-492d-d5d5-6da44ba0d73e"
      },
      "outputs": [
        {
          "output_type": "stream",
          "name": "stdout",
          "text": [
            "The Reversed List using reverse() method : [5, 4, 3, 2, 1]\n",
            "The Reversed List using Slicing method : [5, 4, 3, 2, 1]\n"
          ]
        }
      ],
      "source": [
        "#1 I will reverse a list Using the reverse() method:\n",
        "my_list = [1, 2, 3, 4, 5]\n",
        "my_list.reverse()\n",
        "print(f\"The Reversed List using reverse() method : {my_list}\")\n",
        "\n",
        "#2 By using Slicing Method\n",
        "my_List = [1, 2, 3, 4, 5]\n",
        "reversed_list = my_List[::-1]\n",
        "print(f\"The Reversed List using Slicing method : {reversed_list}\")"
      ]
    },
    {
      "cell_type": "markdown",
      "id": "69255251",
      "metadata": {
        "id": "69255251"
      },
      "source": [
        "# How will you compare two lists?"
      ]
    },
    {
      "cell_type": "markdown",
      "source": [
        "# Answer -To compare two lists in programming,We typically need to check if they have the same elements in the same order.\n",
        "\n",
        "#some common approaches to compare two lists:"
      ],
      "metadata": {
        "id": "LabMG_-22pYU"
      },
      "id": "LabMG_-22pYU"
    },
    {
      "cell_type": "code",
      "execution_count": null,
      "id": "ee751ef2",
      "metadata": {
        "id": "ee751ef2",
        "colab": {
          "base_uri": "https://localhost:8080/"
        },
        "outputId": "8da293ee-e868-478b-c279-624dbf58d5d8"
      },
      "outputs": [
        {
          "output_type": "stream",
          "name": "stdout",
          "text": [
            "The lists are equal.\n"
          ]
        }
      ],
      "source": [
        "#1 Element-wise Comparison:\n",
        "list1 = [1, 2, 3, 4,8]\n",
        "list2 = [1, 2, 3, 4,8]\n",
        "\n",
        "if list1 == list2:\n",
        "    print(\"The lists are equal.\")\n",
        "else:\n",
        "    print(\"The lists are not equal.\")"
      ]
    },
    {
      "cell_type": "code",
      "source": [
        "#2 By using libraries:\n",
        "import numpy as np\n",
        "\n",
        "array1 = np.array([1, 2, 3, 4,7,8])\n",
        "array2 = np.array([1, 2, 3, 4])\n",
        "\n",
        "if np.array_equal(array1, array2):\n",
        "    print(\"The arrays are equal.\")\n",
        "else:\n",
        "    print(\"The arrays are not equal.\")"
      ],
      "metadata": {
        "colab": {
          "base_uri": "https://localhost:8080/"
        },
        "id": "AkfZ9mE80fru",
        "outputId": "be3656de-5de8-45f9-c8fd-e5376a34fd22"
      },
      "id": "AkfZ9mE80fru",
      "execution_count": null,
      "outputs": [
        {
          "output_type": "stream",
          "name": "stdout",
          "text": [
            "The arrays are not equal.\n"
          ]
        }
      ]
    },
    {
      "cell_type": "markdown",
      "id": "367150d6",
      "metadata": {
        "id": "367150d6"
      },
      "source": [
        "###  How will you remove last object from a list? Suppose list1 is [2, 33, 222, 14, and 25], what is list1 [-1]?\n",
        "\n",
        "*   List item\n",
        "*   List item\n",
        "\n"
      ]
    },
    {
      "cell_type": "markdown",
      "source": [
        "Answer:- I will remove last object from a list by using pop() method  or using negative indexing"
      ],
      "metadata": {
        "id": "plwHKeSy3OHJ"
      },
      "id": "plwHKeSy3OHJ"
    },
    {
      "cell_type": "code",
      "execution_count": null,
      "id": "9364a001",
      "metadata": {
        "id": "9364a001",
        "colab": {
          "base_uri": "https://localhost:8080/"
        },
        "outputId": "b26d1ed1-a1f6-4879-d731-eb33d04aa7d7"
      },
      "outputs": [
        {
          "output_type": "stream",
          "name": "stdout",
          "text": [
            "[2, 33, 222, 14]\n",
            "The removed item from list: 25\n"
          ]
        }
      ],
      "source": [
        "list= [2,33,222,14,25]\n",
        "removed_item = list.pop()  # This will remove the last item i.e 25 and return it\n",
        "print(list)\n",
        "print(f\"The removed item from list: {removed_item}\")"
      ]
    },
    {
      "cell_type": "code",
      "source": [
        "#By using Negative indexing\n",
        "list1 = [2, 33, 222, 14, 25]\n",
        "last_item = list1[-1]  # This will access the last item (25)\n",
        "print(f\"Total elements in list:{list1}\")\n",
        "print(f\"The last element: {last_item}\")\n",
        "\n",
        "list1 = list1[:-1]  # This will remove the last item (25) from the list\n",
        "print(f\"The List after removed element:{list1}\")\n"
      ],
      "metadata": {
        "colab": {
          "base_uri": "https://localhost:8080/"
        },
        "id": "CpgcupaU6hJq",
        "outputId": "53c104fd-5402-407a-c6c0-395ea6b14d73"
      },
      "id": "CpgcupaU6hJq",
      "execution_count": null,
      "outputs": [
        {
          "output_type": "stream",
          "name": "stdout",
          "text": [
            "Total elements in list:[2, 33, 222, 14, 25]\n",
            "The last element: 25\n",
            "The List after removed elements:[2, 33, 222, 14]\n"
          ]
        }
      ]
    },
    {
      "cell_type": "markdown",
      "id": "9ad2912e",
      "metadata": {
        "id": "9ad2912e"
      },
      "source": [
        "### Differentiate between append () and extend () methods?"
      ]
    },
    {
      "cell_type": "markdown",
      "source": [
        "Answer:- append()\n",
        "1. The append() method is used to add a single element to the end of a list.\n",
        "2. It takes one argument, which is the element you want to add.\n",
        "3. It does not accept multiple elements or another list as an argument; it's meant for adding single elements."
      ],
      "metadata": {
        "id": "2UiAd-pADCyN"
      },
      "id": "2UiAd-pADCyN"
    },
    {
      "cell_type": "code",
      "source": [
        "my_list = [1, 2, 3]\n",
        "my_list.append(4)\n",
        "print(my_list)"
      ],
      "metadata": {
        "colab": {
          "base_uri": "https://localhost:8080/"
        },
        "id": "AxhQn2NQDueU",
        "outputId": "116cfff5-7602-413e-b1cd-89813021c0bf"
      },
      "id": "AxhQn2NQDueU",
      "execution_count": null,
      "outputs": [
        {
          "output_type": "stream",
          "name": "stdout",
          "text": [
            "[1, 2, 3, 4]\n"
          ]
        }
      ]
    },
    {
      "cell_type": "markdown",
      "source": [
        "extend() method\n",
        "1. The extend() method is used to add multiple elements, often from another iterable (e.g., a list or tuple), to the end of an existing list.\n",
        "2. It takes an iterable as an argument and adds its elements to the list.\n",
        "3.After using extend(), the original list is modified to include the elements from the iterable."
      ],
      "metadata": {
        "id": "Is99XTLBETrC"
      },
      "id": "Is99XTLBETrC"
    },
    {
      "cell_type": "code",
      "execution_count": null,
      "id": "9f0d5d58",
      "metadata": {
        "id": "9f0d5d58",
        "colab": {
          "base_uri": "https://localhost:8080/"
        },
        "outputId": "0e24a1db-9383-4495-e294-1601cdd103b0"
      },
      "outputs": [
        {
          "output_type": "stream",
          "name": "stdout",
          "text": [
            "[1, 2, 3, 4, 5, 6]\n"
          ]
        }
      ],
      "source": [
        "my_list = [1, 2, 3]\n",
        "additional_elements = [4, 5, 6]\n",
        "my_list.extend(additional_elements)\n",
        "print(my_list)\n"
      ]
    },
    {
      "cell_type": "markdown",
      "id": "5f8c10ed",
      "metadata": {
        "id": "5f8c10ed"
      },
      "source": [
        "### Write a Python program to find the second smallest number in a list."
      ]
    },
    {
      "cell_type": "code",
      "execution_count": null,
      "id": "79acc6a9",
      "metadata": {
        "id": "79acc6a9",
        "colab": {
          "base_uri": "https://localhost:8080/"
        },
        "outputId": "f8299921-a67e-40a6-abff-ddac266c72aa"
      },
      "outputs": [
        {
          "output_type": "stream",
          "name": "stdout",
          "text": [
            "The second smallest number is: 2\n"
          ]
        }
      ],
      "source": [
        "def find_second_smallest(numbers):\n",
        "    if len(numbers) < 2:\n",
        "        return \"List must contain at least two elements\"\n",
        "\n",
        "    smallest = float('inf')  #inf means infinite numbers\n",
        "    second_smallest = float('inf')\n",
        "\n",
        "    for num in numbers:\n",
        "        if num < smallest:\n",
        "            second_smallest = smallest  # Update second_smallest to the previous smallest\n",
        "            smallest = num  # Update smallest to the new smallest\n",
        "        elif num < second_smallest and num != smallest:\n",
        "            second_smallest = num  # Update second_smallest if a smaller unique number is found\n",
        "\n",
        "    if second_smallest == float('inf'):\n",
        "        return \"No second smallest element found\"\n",
        "\n",
        "    return second_smallest\n",
        "\n",
        "my_list = [4, 2, 1, 5, 3]\n",
        "result = find_second_smallest(my_list)\n",
        "print(\"The second smallest number is:\", result)"
      ]
    },
    {
      "cell_type": "markdown",
      "id": "6ded1b65",
      "metadata": {
        "id": "6ded1b65"
      },
      "source": [
        "### Write a Python program to find the length of a tuple."
      ]
    },
    {
      "cell_type": "code",
      "execution_count": null,
      "id": "61cfffe0",
      "metadata": {
        "id": "61cfffe0",
        "colab": {
          "base_uri": "https://localhost:8080/"
        },
        "outputId": "b6ed0fb8-c37d-4f11-9ba1-5785b7a47d86"
      },
      "outputs": [
        {
          "output_type": "stream",
          "name": "stdout",
          "text": [
            "The length of the tuple is: 8\n"
          ]
        }
      ],
      "source": [
        "my_tuple = (111,222,333,4,5,666,98,88)\n",
        "length_of_tuple = len(my_tuple)\n",
        "print(\"The length of the tuple is:\", length_of_tuple)"
      ]
    },
    {
      "cell_type": "markdown",
      "id": "86d7bc5d",
      "metadata": {
        "id": "86d7bc5d"
      },
      "source": [
        "## Write a Python program to reverse a tuple."
      ]
    },
    {
      "cell_type": "code",
      "execution_count": null,
      "id": "161ca274",
      "metadata": {
        "id": "161ca274",
        "colab": {
          "base_uri": "https://localhost:8080/"
        },
        "outputId": "5b76be9b-b70e-41ad-c73f-d2008fb3903d"
      },
      "outputs": [
        {
          "output_type": "stream",
          "name": "stdout",
          "text": [
            "Original Tuple: (1600, 2222, 3033, 7824, 5092, 'Hello', 'Hi')\n",
            "Reversed Tuple: ('Hi', 'Hello', 5092, 7824, 3033, 2222, 1600)\n"
          ]
        }
      ],
      "source": [
        "my_tuple = (1600,2222,3033,7824,5092,\"Hello\",\"Hi\")\n",
        "reversed_tuple = tuple(reversed(my_tuple))\n",
        "print(\"Original Tuple:\", my_tuple)\n",
        "print(\"Reversed Tuple:\", reversed_tuple)"
      ]
    },
    {
      "cell_type": "markdown",
      "id": "2a982267",
      "metadata": {
        "id": "2a982267"
      },
      "source": [
        "### Write a Python program to remove duplicates from a list."
      ]
    },
    {
      "cell_type": "code",
      "source": [
        "def remove_duplicates_with_loop(input_list):\n",
        "    unique_list = []\n",
        "    for item in input_list:\n",
        "        if item not in unique_list:\n",
        "            unique_list.append(item)\n",
        "    return unique_list\n",
        "\n",
        "input_list = [1, 2, 2, 3, 4, 5, 5, 5, 5, 6, 6, 6, 2, 3, 4, 4, 5, 21, 22, 23, 24, 24, 26, 29, 99, 98, 99, 99, 99, 98, 65, 57, 68]\n",
        "unique_list_1 = remove_duplicates_with_loop(input_list)\n",
        "print(\"List without duplicates:\", unique_list_1)"
      ],
      "metadata": {
        "colab": {
          "base_uri": "https://localhost:8080/"
        },
        "id": "-PMiMdPa74ch",
        "outputId": "4afbffc3-cca9-4343-f802-049ee9ad88da"
      },
      "id": "-PMiMdPa74ch",
      "execution_count": 15,
      "outputs": [
        {
          "output_type": "stream",
          "name": "stdout",
          "text": [
            "List without duplicates: [1, 2, 3, 4, 5, 6, 21, 22, 23, 24, 26, 29, 99, 98, 65, 57, 68]\n"
          ]
        }
      ]
    },
    {
      "cell_type": "markdown",
      "id": "2573940b",
      "metadata": {
        "id": "2573940b"
      },
      "source": [
        "## Write a Python function that takes a list and returns a new list with unique elements of the first list."
      ]
    },
    {
      "cell_type": "code",
      "source": [
        "def unique_elements(input_list):\n",
        "    unique_dict = {}  # A dictionary to track unique elements\n",
        "    unique_list = []  # A list to store the unique elements in order\n",
        "\n",
        "    for item in input_list:\n",
        "        if item not in unique_dict:\n",
        "            unique_dict[item] = True\n",
        "            unique_list.append(item)\n",
        "\n",
        "    return unique_list\n",
        "\n",
        "input_list = [1, 2, 2, 3, 4, 4, 5]\n",
        "result_list = unique_elements(input_list)\n",
        "print(result_list)"
      ],
      "metadata": {
        "id": "fBBlgdYP-pth",
        "colab": {
          "base_uri": "https://localhost:8080/"
        },
        "outputId": "36ad9472-d594-4995-c450-3e910073415c"
      },
      "id": "fBBlgdYP-pth",
      "execution_count": 18,
      "outputs": [
        {
          "output_type": "stream",
          "name": "stdout",
          "text": [
            "[1, 2, 3, 4, 5]\n"
          ]
        }
      ]
    },
    {
      "cell_type": "markdown",
      "id": "569027d9",
      "metadata": {
        "id": "569027d9"
      },
      "source": [
        "###  Write a Python program to check a list is empty or not."
      ]
    },
    {
      "cell_type": "code",
      "execution_count": null,
      "id": "fd71c169",
      "metadata": {
        "id": "fd71c169",
        "colab": {
          "base_uri": "https://localhost:8080/"
        },
        "outputId": "56767454-97b0-480e-b597-00332027240e"
      },
      "outputs": [
        {
          "output_type": "stream",
          "name": "stdout",
          "text": [
            "The list is empty.\n",
            "The list is not empty.\n"
          ]
        }
      ],
      "source": [
        "def is_empty(input_list):\n",
        "    if not input_list:\n",
        "        return True\n",
        "    else:\n",
        "        return False\n",
        "\n",
        "empty_list = []\n",
        "non_empty_list = [1, 2, 3]\n",
        "\n",
        "if is_empty(empty_list):\n",
        "    print(\"The list is empty.\")\n",
        "else:\n",
        "    print(\"The list is not empty.\")\n",
        "\n",
        "if is_empty(non_empty_list):\n",
        "    print(\"The list is empty.\")\n",
        "else:\n",
        "    print(\"The list is not empty.\")\n"
      ]
    },
    {
      "cell_type": "markdown",
      "id": "c64d9e48",
      "metadata": {
        "id": "c64d9e48"
      },
      "source": [
        "### Write a Python function to get the largest number, smallest num and sum of all from a list."
      ]
    },
    {
      "cell_type": "code",
      "execution_count": 1,
      "id": "155dd0e4",
      "metadata": {
        "id": "155dd0e4",
        "colab": {
          "base_uri": "https://localhost:8080/"
        },
        "outputId": "0eadb5a2-68a3-4b73-cf90-1c7f78b3a305"
      },
      "outputs": [
        {
          "output_type": "stream",
          "name": "stdout",
          "text": [
            "Largest number: 9\n",
            "Smallest number: 1\n",
            "Sum of all numbers: 36\n"
          ]
        }
      ],
      "source": [
        "def get_largest_smallest_sum(numbers):\n",
        "    if not numbers:\n",
        "        return None, None, 0\n",
        "\n",
        "    largest = numbers[0]\n",
        "    smallest = numbers[0]\n",
        "    total = numbers[0]\n",
        "\n",
        "    for num in numbers[1:]:\n",
        "        if num > largest:\n",
        "            largest = num\n",
        "        elif num < smallest:\n",
        "            smallest = num\n",
        "        total += num\n",
        "\n",
        "    return largest, smallest, total\n",
        "\n",
        "numbers = [4, 9, 2, 7, 5, 1, 8]\n",
        "largest, smallest, total = get_largest_smallest_sum(numbers)\n",
        "print(f\"Largest number: {largest}\")\n",
        "print(f\"Smallest number: {smallest}\")\n",
        "print(f\"Sum of all numbers: {total}\")\n"
      ]
    },
    {
      "cell_type": "markdown",
      "id": "80f8354d",
      "metadata": {
        "id": "80f8354d"
      },
      "source": [
        "### Write a Python program to get unique values from a list"
      ]
    },
    {
      "cell_type": "code",
      "execution_count": 6,
      "id": "c7ab6392",
      "metadata": {
        "id": "c7ab6392",
        "colab": {
          "base_uri": "https://localhost:8080/"
        },
        "outputId": "1fd4da31-ac6e-4056-ca10-2162d5b5a7b5"
      },
      "outputs": [
        {
          "output_type": "stream",
          "name": "stdout",
          "text": [
            "[1, 2, 3, 4, 5, 6, 99, 98, 34, 23, 24, 88]\n"
          ]
        }
      ],
      "source": [
        "def get_unique_values(input_list):\n",
        "    return list(set(input_list))\n",
        "\n",
        "my_list = [1, 2,3,4,5,6,99,98,23,24,99,34,34,99,99,88,2, 3, 4, 4, 5]\n",
        "unique_values = get_unique_values(my_list)\n",
        "print(unique_values)"
      ]
    },
    {
      "cell_type": "markdown",
      "id": "a62c3d8c",
      "metadata": {
        "id": "a62c3d8c"
      },
      "source": [
        "### Write a Python program to split a list into different variables."
      ]
    },
    {
      "cell_type": "code",
      "execution_count": 8,
      "id": "25bb05a2",
      "metadata": {
        "id": "25bb05a2",
        "colab": {
          "base_uri": "https://localhost:8080/"
        },
        "outputId": "89ecedc2-2f43-489e-88c7-db4b906b9454"
      },
      "outputs": [
        {
          "output_type": "stream",
          "name": "stdout",
          "text": [
            "var1: 1\n",
            "var2: 2\n",
            "var3: 3\n",
            "var4: 4\n",
            "var5: 5\n"
          ]
        }
      ],
      "source": [
        "my_list = [1, 2, 3, 4, 5]\n",
        "\n",
        "var1, var2, var3, var4, var5 = my_list\n",
        "\n",
        "print(f\"var1: {var1}\")\n",
        "print(f\"var2: {var2}\")\n",
        "print(f\"var3: {var3}\")\n",
        "print(f\"var4: {var4}\")\n",
        "print(f\"var5: {var5}\")"
      ]
    },
    {
      "cell_type": "markdown",
      "id": "f85589f9",
      "metadata": {
        "id": "f85589f9"
      },
      "source": [
        "### Write a Python program to check whether an element exists within a tuple"
      ]
    },
    {
      "cell_type": "code",
      "execution_count": 9,
      "id": "84d3d847",
      "metadata": {
        "id": "84d3d847",
        "colab": {
          "base_uri": "https://localhost:8080/"
        },
        "outputId": "542c050e-5675-42e7-ec24-783336e8be5e"
      },
      "outputs": [
        {
          "output_type": "stream",
          "name": "stdout",
          "text": [
            "Enter number: 8\n",
            "8 does not exist in the tuple.\n"
          ]
        }
      ],
      "source": [
        "my_tuple = (1, 2, 3, 4, 5)\n",
        "\n",
        "element_to_check = int(input(\"Enter number: \"))\n",
        "\n",
        "if element_to_check in my_tuple:\n",
        "    print(f\"{element_to_check} exists in the tuple.\")\n",
        "else:\n",
        "    print(f\"{element_to_check} does not exist in the tuple.\")\n"
      ]
    },
    {
      "cell_type": "markdown",
      "id": "f9fdf431",
      "metadata": {
        "id": "f9fdf431"
      },
      "source": [
        "### Write a Python program to convert a list to a tuple."
      ]
    },
    {
      "cell_type": "code",
      "execution_count": 10,
      "id": "55b39659",
      "metadata": {
        "id": "55b39659",
        "colab": {
          "base_uri": "https://localhost:8080/"
        },
        "outputId": "c40c5f61-3ace-4f47-d638-cc65e5b594cf"
      },
      "outputs": [
        {
          "output_type": "stream",
          "name": "stdout",
          "text": [
            "Original List: [1, 2, 3, 4, 5]\n",
            "Converted Tuple: (1, 2, 3, 4, 5)\n"
          ]
        }
      ],
      "source": [
        "my_list = [1, 2, 3, 4, 5]\n",
        "\n",
        "# Convert the list to a tuple\n",
        "my_tuple = tuple(my_list)\n",
        "\n",
        "print(\"Original List:\", my_list)\n",
        "print(\"Converted Tuple:\", my_tuple)\n"
      ]
    },
    {
      "cell_type": "markdown",
      "id": "9b882e05",
      "metadata": {
        "id": "9b882e05"
      },
      "source": [
        "### Write a Python program to find the repeated items of a tuple."
      ]
    },
    {
      "cell_type": "code",
      "execution_count": null,
      "id": "9b81129e",
      "metadata": {
        "id": "9b81129e",
        "colab": {
          "base_uri": "https://localhost:8080/"
        },
        "outputId": "22160e11-a70a-4615-aca2-8b8b6399d225"
      },
      "outputs": [
        {
          "output_type": "stream",
          "name": "stdout",
          "text": [
            "Repeated items in the tuple: [2, 4, 5]\n"
          ]
        }
      ],
      "source": [
        "def find_repeated_items(my_tuple):\n",
        "    repeated_items = []\n",
        "    seen_items = set()\n",
        "\n",
        "    for item in my_tuple:\n",
        "        if item in seen_items and item not in repeated_items:\n",
        "            repeated_items.append(item)\n",
        "        else:\n",
        "            seen_items.add(item)\n",
        "\n",
        "    return repeated_items\n",
        "\n",
        "my_tuple = (1, 2, 2, 3, 4, 4, 5, 5, 2)\n",
        "\n",
        "repeated_items = find_repeated_items(my_tuple)\n",
        "\n",
        "if repeated_items:\n",
        "    print(\"Repeated items in the tuple:\", repeated_items)\n",
        "else:\n",
        "    print(\"No repeated items\")\n"
      ]
    },
    {
      "cell_type": "markdown",
      "id": "a4b253d1",
      "metadata": {
        "id": "a4b253d1"
      },
      "source": [
        "###  Write a Python program to remove an empty tuple(s) from a list of tuples"
      ]
    },
    {
      "cell_type": "code",
      "execution_count": null,
      "id": "5b573974",
      "metadata": {
        "id": "5b573974",
        "colab": {
          "base_uri": "https://localhost:8080/"
        },
        "outputId": "aa34780e-bd06-4c68-ef6c-8bcc9f767dbf"
      },
      "outputs": [
        {
          "output_type": "stream",
          "name": "stdout",
          "text": [
            "Original List of Tuples: [(1, 2), (), (3, 4), (), (5, 6), ()]\n",
            "List of Tuples with Empty Tuples Removed: [(1, 2), (3, 4), (5, 6)]\n"
          ]
        }
      ],
      "source": [
        "list_of_tuples = [(1, 2), (), (3, 4), (), (5, 6), ()]\n",
        "\n",
        "# Remove empty tuples using list comprehension\n",
        "filtered_list = [tup for tup in list_of_tuples if tup]\n",
        "\n",
        "print(\"Original List of Tuples:\", list_of_tuples)\n",
        "print(\"List of Tuples with Empty Tuples Removed:\", filtered_list)\n"
      ]
    },
    {
      "cell_type": "markdown",
      "id": "e4b2114c",
      "metadata": {
        "id": "e4b2114c"
      },
      "source": [
        "### Write a Python program to unzip a list of tuples into individual lists."
      ]
    },
    {
      "cell_type": "code",
      "execution_count": 19,
      "id": "1b624da0",
      "metadata": {
        "id": "1b624da0",
        "colab": {
          "base_uri": "https://localhost:8080/"
        },
        "outputId": "24d04319-9554-4775-fd28-636d39ca4d43"
      },
      "outputs": [
        {
          "output_type": "stream",
          "name": "stdout",
          "text": [
            "List of Tuples: [(1, 'a'), (2, 'b'), (3, 'c')]\n",
            "Unzipped Lists:\n",
            "List 1: [1, 2, 3]\n",
            "List 2: ['a', 'b', 'c']\n"
          ]
        }
      ],
      "source": [
        "list_of_tuples = [(1, 'a'), (2, 'b'), (3, 'c')]\n",
        "\n",
        "# Unzip the list of tuples into individual lists\n",
        "unzipped_lists = list(zip(*list_of_tuples))\n",
        "\n",
        "print(\"List of Tuples:\", list_of_tuples)\n",
        "print(\"Unzipped Lists:\")\n",
        "for i, unzipped_list in enumerate(unzipped_lists):\n",
        "    print(f\"List {i + 1}: {list(unzipped_list)}\")\n"
      ]
    },
    {
      "cell_type": "markdown",
      "id": "f6c16416",
      "metadata": {
        "id": "f6c16416"
      },
      "source": [
        "### Write a Python function to check whether a number is in a given range"
      ]
    },
    {
      "cell_type": "code",
      "execution_count": null,
      "id": "5c2e1e91",
      "metadata": {
        "id": "5c2e1e91",
        "colab": {
          "base_uri": "https://localhost:8080/"
        },
        "outputId": "a24da9c2-894f-4aaa-9a57-08171810b590"
      },
      "outputs": [
        {
          "output_type": "stream",
          "name": "stdout",
          "text": [
            "Enter From number: 40\n",
            "Enter to number: 45\n",
            "Enter number which we have to check: 42\n",
            "42 is in the range [40, 45].\n"
          ]
        }
      ],
      "source": [
        "def is_number_in_range(number, start, end):\n",
        "    if start <= number <= end:\n",
        "        return True\n",
        "    else:\n",
        "        return False\n",
        "\n",
        "start_range = int(input(\"Enter From number: \"))\n",
        "end_range = int(input(\"Enter to number: \"))\n",
        "number_to_check = int(input(\"Enter number which we have to check: \"))\n",
        "\n",
        "if is_number_in_range(number_to_check, start_range, end_range):\n",
        "    print(f\"{number_to_check} is in the range [{start_range}, {end_range}].\")\n",
        "else:\n",
        "    print(f\"{number_to_check} is not in the range [{start_range}, {end_range}].\")\n"
      ]
    },
    {
      "cell_type": "markdown",
      "id": "ca38d306",
      "metadata": {
        "id": "ca38d306"
      },
      "source": [
        "### Write a Python function that checks whether a passed string is palindrome or not"
      ]
    },
    {
      "cell_type": "code",
      "execution_count": null,
      "id": "e20061fb",
      "metadata": {
        "id": "e20061fb",
        "colab": {
          "base_uri": "https://localhost:8080/"
        },
        "outputId": "c90d8fee-f8c5-4019-d53a-54f04d954f73"
      },
      "outputs": [
        {
          "output_type": "stream",
          "name": "stdout",
          "text": [
            "enter String: raceCAR\n",
            "raceCAR is a palindrome.\n"
          ]
        }
      ],
      "source": [
        "def is_palindrome(s):\n",
        "    # Remove spaces and convert to lowercase for a case-insensitive check\n",
        "    s = s.replace(\" \", \"\").lower()\n",
        "\n",
        "    # Compare the original string with its reverse\n",
        "    return s == s[::-1]\n",
        "\n",
        "input_string = str(input(\"enter String: \"))\n",
        "if is_palindrome(input_string):\n",
        "    print(f\"{input_string} is a palindrome.\")\n",
        "else:\n",
        "    print(f\"{input_string} is not a palindrome.\")\n"
      ]
    },
    {
      "cell_type": "markdown",
      "id": "19e7c4e5",
      "metadata": {
        "id": "19e7c4e5"
      },
      "source": [
        "### Write a Python program to returns sum of all divisors of a number"
      ]
    },
    {
      "cell_type": "code",
      "execution_count": null,
      "id": "5fd0d815",
      "metadata": {
        "id": "5fd0d815",
        "colab": {
          "base_uri": "https://localhost:8080/"
        },
        "outputId": "fe3d24f1-e109-450f-d438-85caf03cb815"
      },
      "outputs": [
        {
          "output_type": "stream",
          "name": "stdout",
          "text": [
            "Enter Number: 2\n",
            "The sum of divisors of 2 is 3\n"
          ]
        }
      ],
      "source": [
        "def sum_of_divisors(number):\n",
        "    divisor_sum = 0\n",
        "\n",
        "    for i in range(1, number + 1):\n",
        "        if number % i == 0:\n",
        "            divisor_sum += i\n",
        "\n",
        "    return divisor_sum\n",
        "\n",
        "num = int(input(\"Enter Number: \"))\n",
        "result = sum_of_divisors(num)\n",
        "print(f\"The sum of divisors of {num} is {result}\")\n"
      ]
    },
    {
      "cell_type": "markdown",
      "id": "e64676e6",
      "metadata": {
        "id": "e64676e6"
      },
      "source": [
        "### Write a Python program to find the maximum and minimum numbers from the specified decimal numbers."
      ]
    },
    {
      "cell_type": "code",
      "execution_count": null,
      "id": "119282e9",
      "metadata": {
        "id": "119282e9",
        "colab": {
          "base_uri": "https://localhost:8080/"
        },
        "outputId": "e82836f1-4305-43c1-b51b-736a1264157a"
      },
      "outputs": [
        {
          "output_type": "stream",
          "name": "stdout",
          "text": [
            "Decimal Numbers: [3.14, 1.23, 2.71, 0.5, 0.25, 4.0, 2.0, 36.0, 88, 34, 99.99]\n",
            "Maximum Number: 99.99\n",
            "Minimum Number: 0.25\n"
          ]
        }
      ],
      "source": [
        "decimal_numbers = [3.14, 1.23, 2.71, 0.5,.25, 4.0, 2.0,36.0,88,34,99.99]\n",
        "\n",
        "maximum_number = max(decimal_numbers)\n",
        "minimum_number = min(decimal_numbers)\n",
        "\n",
        "print(\"Decimal Numbers:\", decimal_numbers)\n",
        "print(\"Maximum Number:\", maximum_number)\n",
        "print(\"Minimum Number:\", minimum_number)\n"
      ]
    },
    {
      "cell_type": "markdown",
      "id": "afc120de",
      "metadata": {
        "id": "afc120de"
      },
      "source": [
        "### Write a Python program to calculate the area of a parallelogram"
      ]
    },
    {
      "cell_type": "code",
      "execution_count": null,
      "id": "0d4e61b6",
      "metadata": {
        "id": "0d4e61b6",
        "colab": {
          "base_uri": "https://localhost:8080/"
        },
        "outputId": "214afcf7-bceb-4dca-deac-3f87dcd74c51"
      },
      "outputs": [
        {
          "output_type": "stream",
          "name": "stdout",
          "text": [
            "Enter value of base 4\n",
            "Enter value of height 5\n",
            "The area of the parallelogram is 20 square units.\n"
          ]
        }
      ],
      "source": [
        "def parallelogram_area(base, height):\n",
        "    area = base * height\n",
        "    return area\n",
        "\n",
        "base_length =int(input(\"Enter value of base \"))\n",
        "height_length = int(input(\"Enter value of height \"))\n",
        "\n",
        "area = parallelogram_area(base_length, height_length)\n",
        "\n",
        "print(f\"The area of the parallelogram is {area} square units.\")\n"
      ]
    },
    {
      "cell_type": "markdown",
      "id": "23ab496f",
      "metadata": {
        "id": "23ab496f"
      },
      "source": [
        "### Write a Python function to check whether a number is perfect or not."
      ]
    },
    {
      "cell_type": "markdown",
      "source": [
        "Perfect number:- A positive integer that is equal to the sum of its proper divisors.\n",
        "like 6=1+2+3"
      ],
      "metadata": {
        "id": "M2FSD0B6UeCw"
      },
      "id": "M2FSD0B6UeCw"
    },
    {
      "cell_type": "code",
      "execution_count": null,
      "id": "2d7e8da7",
      "metadata": {
        "id": "2d7e8da7",
        "colab": {
          "base_uri": "https://localhost:8080/"
        },
        "outputId": "9cb40fa8-b582-4ce0-d56f-8ed98105c2e2"
      },
      "outputs": [
        {
          "output_type": "stream",
          "name": "stdout",
          "text": [
            "Enter number: 8\n",
            "8 is not a perfect number.\n"
          ]
        }
      ],
      "source": [
        "def is_perfect_number(number):\n",
        "    if number <= 0:\n",
        "        return False  # Negative numbers and zero are not perfect numbers\n",
        "\n",
        "    # Find the proper divisors of the number and sum them\n",
        "    divisor_sum = 0\n",
        "    for i in range(1, number):\n",
        "        if number % i == 0:\n",
        "            divisor_sum += i\n",
        "\n",
        "    # Check if the sum of divisors equals the original number\n",
        "    return divisor_sum == number\n",
        "\n",
        "\n",
        "num = int(input(\"Enter number: \"))\n",
        "if is_perfect_number(num):\n",
        "    print(f\"{num} is a perfect number.\")\n",
        "else:\n",
        "    print(f\"{num} is not a perfect number.\")\n"
      ]
    },
    {
      "cell_type": "markdown",
      "id": "5e41e219",
      "metadata": {
        "id": "5e41e219"
      },
      "source": [
        "### Write a Python program to convert degree to radian"
      ]
    },
    {
      "cell_type": "code",
      "execution_count": null,
      "id": "87fb8406",
      "metadata": {
        "id": "87fb8406",
        "colab": {
          "base_uri": "https://localhost:8080/"
        },
        "outputId": "051db2a9-3080-4fe4-9ec9-8288315c33f8"
      },
      "outputs": [
        {
          "output_type": "stream",
          "name": "stdout",
          "text": [
            "Enter degree value which you want to convert to radian :100\n",
            "100 degrees is equal to 1.7453292519943295 radians.\n"
          ]
        }
      ],
      "source": [
        "import math\n",
        "\n",
        "def degrees_to_radians(degrees):\n",
        "    radians = degrees * (math.pi / 180)\n",
        "    return radians\n",
        "\n",
        "\n",
        "degree_value = int(input(\"Enter degree value which you want to convert to radian :\"))\n",
        "\n",
        "radian_value = degrees_to_radians(degree_value)\n",
        "\n",
        "print(f\"{degree_value} degrees is equal to {radian_value} radians.\")\n"
      ]
    },
    {
      "cell_type": "markdown",
      "id": "368bba70",
      "metadata": {
        "id": "368bba70"
      },
      "source": [
        "###  Write a Python program to calculate the area of a trapezoid"
      ]
    },
    {
      "cell_type": "code",
      "execution_count": null,
      "id": "34ef44e0",
      "metadata": {
        "id": "34ef44e0",
        "colab": {
          "base_uri": "https://localhost:8080/"
        },
        "outputId": "9f17ab5b-fd2a-43d1-eae3-224a2d583681"
      },
      "outputs": [
        {
          "output_type": "stream",
          "name": "stdout",
          "text": [
            "Enter base 1 Length: 3\n",
            "Enter base 2 Length: 4\n",
            "Enter height Length: 5\n",
            "The area of the trapezoid is 17.5 square units.\n"
          ]
        }
      ],
      "source": [
        "def trapezoid_area(base1, base2, height):\n",
        "    area = ((base1 + base2) / 2) * height\n",
        "    return area\n",
        "\n",
        "base1_length = float(input(\"Enter base 1 Length: \"))\n",
        "base2_length = float(input(\"Enter base 2 Length: \"))\n",
        "height_length = float(input(\"Enter height Length: \"))\n",
        "\n",
        "area = trapezoid_area(base1_length, base2_length, height_length)\n",
        "\n",
        "print(f\"The area of the trapezoid is {area} square units.\")\n"
      ]
    },
    {
      "cell_type": "markdown",
      "id": "8bf811b7",
      "metadata": {
        "id": "8bf811b7"
      },
      "source": [
        "## Write a Python program to calculate surface volume and area of a cylinder"
      ]
    },
    {
      "cell_type": "code",
      "execution_count": 20,
      "id": "f5fc9dfb",
      "metadata": {
        "id": "f5fc9dfb",
        "colab": {
          "base_uri": "https://localhost:8080/"
        },
        "outputId": "44bb7789-ca1b-4618-c440-81ba042f2e20"
      },
      "outputs": [
        {
          "output_type": "stream",
          "name": "stdout",
          "text": [
            "Enter Radius of cylinder: 34\n",
            "Enter height of cylinder: 45\n",
            "The lateral surface area of the cylinder is 9613.27 square units.\n",
            "The total surface area of the cylinder is 16876.64 square units.\n",
            "The volume of the cylinder is 163425.65 cubic units.\n"
          ]
        }
      ],
      "source": [
        "import math\n",
        "\n",
        "# Function to calculate the surface area (excluding top and bottom) of a cylinder\n",
        "def cylinder_lateral_surface_area(radius, height):\n",
        "    lateral_surface_area = 2 * math.pi * radius * height\n",
        "    return lateral_surface_area\n",
        "\n",
        "# Function to calculate the total surface area (including top and bottom) of a cylinder\n",
        "def cylinder_total_surface_area(radius, height):\n",
        "    total_surface_area = 2 * math.pi * radius * (radius + height)\n",
        "    return total_surface_area\n",
        "\n",
        "# Function to calculate the volume of a cylinder\n",
        "def cylinder_volume(radius, height):\n",
        "    volume = math.pi * radius**2 * height\n",
        "    return volume\n",
        "\n",
        "\n",
        "radius_value = float(input(\"Enter Radius of cylinder: \"))\n",
        "height_value = float(input(\"Enter height of cylinder: \"))\n",
        "\n",
        "lateral_area = cylinder_lateral_surface_area(radius_value, height_value)\n",
        "total_area = cylinder_total_surface_area(radius_value, height_value)\n",
        "volume = cylinder_volume(radius_value, height_value)\n",
        "\n",
        "print(f\"The lateral surface area of the cylinder is {lateral_area:.2f} square units.\")\n",
        "print(f\"The total surface area of the cylinder is {total_area:.2f} square units.\")\n",
        "print(f\"The volume of the cylinder is {volume:.2f} cubic units.\")\n"
      ]
    },
    {
      "cell_type": "code",
      "source": [],
      "metadata": {
        "id": "M06NQlIphwu3"
      },
      "id": "M06NQlIphwu3",
      "execution_count": null,
      "outputs": []
    }
  ],
  "metadata": {
    "kernelspec": {
      "display_name": "Python 3 (ipykernel)",
      "language": "python",
      "name": "python3"
    },
    "language_info": {
      "codemirror_mode": {
        "name": "ipython",
        "version": 3
      },
      "file_extension": ".py",
      "mimetype": "text/x-python",
      "name": "python",
      "nbconvert_exporter": "python",
      "pygments_lexer": "ipython3",
      "version": "3.8.8"
    },
    "vscode": {
      "interpreter": {
        "hash": "5ae58900cfbb8c43ab3495913814b7cf26024f51651a94ce8bf64d6111688e8d"
      }
    },
    "colab": {
      "provenance": []
    }
  },
  "nbformat": 4,
  "nbformat_minor": 5
}